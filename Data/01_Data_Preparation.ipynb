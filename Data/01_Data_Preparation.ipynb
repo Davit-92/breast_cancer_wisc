{
 "metadata": {
  "language_info": {
   "codemirror_mode": {
    "name": "ipython",
    "version": 3
   },
   "file_extension": ".py",
   "mimetype": "text/x-python",
   "name": "python",
   "nbconvert_exporter": "python",
   "pygments_lexer": "ipython3",
   "version": "3.8.10"
  },
  "orig_nbformat": 2,
  "kernelspec": {
   "name": "python3810jvsc74a57bd0c8a9d36e8b5174058a1a505fdd53573d7575bbce5f04664518cf239dcd87db3b",
   "display_name": "Python 3.8.10 64-bit ('PythonSoftwareFoundation.Python.3.8_qbz5n2kfra8p0')"
  },
  "metadata": {
   "interpreter": {
    "hash": "c8a9d36e8b5174058a1a505fdd53573d7575bbce5f04664518cf239dcd87db3b"
   }
  }
 },
 "nbformat": 4,
 "nbformat_minor": 2,
 "cells": [
  {
   "cell_type": "code",
   "execution_count": 1,
   "metadata": {},
   "outputs": [],
   "source": [
    "import pandas as pd"
   ]
  },
  {
   "source": [
    "## Load Data and arrange column names"
   ],
   "cell_type": "markdown",
   "metadata": {}
  },
  {
   "cell_type": "code",
   "execution_count": 2,
   "metadata": {},
   "outputs": [
    {
     "output_type": "execute_result",
     "data": {
      "text/plain": [
       "   Sample code number  Clump Thickness  Uniformity of Cell Size  \\\n",
       "0             1000025                5                        1   \n",
       "1             1002945                5                        4   \n",
       "2             1015425                3                        1   \n",
       "3             1016277                6                        8   \n",
       "4             1017023                4                        1   \n",
       "\n",
       "   Uniformity of Cell Shape  Marginal Adhesion  Single Epithelial Cell Size  \\\n",
       "0                         1                  1                            2   \n",
       "1                         4                  5                            7   \n",
       "2                         1                  1                            2   \n",
       "3                         8                  1                            3   \n",
       "4                         1                  3                            2   \n",
       "\n",
       "  Bare Nuclei  Bland Chromatin  Normal Nucleoli  Mitoses  Class  \n",
       "0           1                3                1        1      2  \n",
       "1          10                3                2        1      2  \n",
       "2           2                3                1        1      2  \n",
       "3           4                3                7        1      2  \n",
       "4           1                3                1        1      2  "
      ],
      "text/html": "<div>\n<style scoped>\n    .dataframe tbody tr th:only-of-type {\n        vertical-align: middle;\n    }\n\n    .dataframe tbody tr th {\n        vertical-align: top;\n    }\n\n    .dataframe thead th {\n        text-align: right;\n    }\n</style>\n<table border=\"1\" class=\"dataframe\">\n  <thead>\n    <tr style=\"text-align: right;\">\n      <th></th>\n      <th>Sample code number</th>\n      <th>Clump Thickness</th>\n      <th>Uniformity of Cell Size</th>\n      <th>Uniformity of Cell Shape</th>\n      <th>Marginal Adhesion</th>\n      <th>Single Epithelial Cell Size</th>\n      <th>Bare Nuclei</th>\n      <th>Bland Chromatin</th>\n      <th>Normal Nucleoli</th>\n      <th>Mitoses</th>\n      <th>Class</th>\n    </tr>\n  </thead>\n  <tbody>\n    <tr>\n      <th>0</th>\n      <td>1000025</td>\n      <td>5</td>\n      <td>1</td>\n      <td>1</td>\n      <td>1</td>\n      <td>2</td>\n      <td>1</td>\n      <td>3</td>\n      <td>1</td>\n      <td>1</td>\n      <td>2</td>\n    </tr>\n    <tr>\n      <th>1</th>\n      <td>1002945</td>\n      <td>5</td>\n      <td>4</td>\n      <td>4</td>\n      <td>5</td>\n      <td>7</td>\n      <td>10</td>\n      <td>3</td>\n      <td>2</td>\n      <td>1</td>\n      <td>2</td>\n    </tr>\n    <tr>\n      <th>2</th>\n      <td>1015425</td>\n      <td>3</td>\n      <td>1</td>\n      <td>1</td>\n      <td>1</td>\n      <td>2</td>\n      <td>2</td>\n      <td>3</td>\n      <td>1</td>\n      <td>1</td>\n      <td>2</td>\n    </tr>\n    <tr>\n      <th>3</th>\n      <td>1016277</td>\n      <td>6</td>\n      <td>8</td>\n      <td>8</td>\n      <td>1</td>\n      <td>3</td>\n      <td>4</td>\n      <td>3</td>\n      <td>7</td>\n      <td>1</td>\n      <td>2</td>\n    </tr>\n    <tr>\n      <th>4</th>\n      <td>1017023</td>\n      <td>4</td>\n      <td>1</td>\n      <td>1</td>\n      <td>3</td>\n      <td>2</td>\n      <td>1</td>\n      <td>3</td>\n      <td>1</td>\n      <td>1</td>\n      <td>2</td>\n    </tr>\n  </tbody>\n</table>\n</div>"
     },
     "metadata": {},
     "execution_count": 2
    }
   ],
   "source": [
    "initial = pd.read_csv('01_Initial_Data.txt', sep=\",\", names=['Sample code number',\n",
    " 'Clump Thickness',\n",
    " 'Uniformity of Cell Size',\n",
    " 'Uniformity of Cell Shape',\n",
    " 'Marginal Adhesion',\n",
    " 'Single Epithelial Cell Size',\n",
    " 'Bare Nuclei',\n",
    " 'Bland Chromatin',\n",
    " 'Normal Nucleoli',\n",
    " 'Mitoses',\n",
    " 'Class'])\n",
    "\n",
    "initial.head()"
   ]
  },
  {
   "source": [
    "## Replacing missing \"Bare Nuclei\" data, marked by \"?\" to mode value of each class, and converting to numeric data type all column"
   ],
   "cell_type": "markdown",
   "metadata": {}
  },
  {
   "cell_type": "code",
   "execution_count": 3,
   "metadata": {},
   "outputs": [
    {
     "output_type": "stream",
     "name": "stdout",
     "text": [
      "<class 'pandas.core.frame.DataFrame'>\nRangeIndex: 699 entries, 0 to 698\nData columns (total 11 columns):\n #   Column                       Non-Null Count  Dtype\n---  ------                       --------------  -----\n 0   Sample code number           699 non-null    int64\n 1   Clump Thickness              699 non-null    int64\n 2   Uniformity of Cell Size      699 non-null    int64\n 3   Uniformity of Cell Shape     699 non-null    int64\n 4   Marginal Adhesion            699 non-null    int64\n 5   Single Epithelial Cell Size  699 non-null    int64\n 6   Bare Nuclei                  699 non-null    int64\n 7   Bland Chromatin              699 non-null    int64\n 8   Normal Nucleoli              699 non-null    int64\n 9   Mitoses                      699 non-null    int64\n 10  Class                        699 non-null    int64\ndtypes: int64(11)\nmemory usage: 60.2 KB\n"
     ]
    }
   ],
   "source": [
    "class_B_mode = pd.to_numeric(initial[(initial[\"Bare Nuclei\"] != \"?\") & (initial[\"Class\"] == 2)][\"Bare Nuclei\"]).mode()\n",
    "class_M_mode = pd.to_numeric(initial[(initial[\"Bare Nuclei\"] != \"?\") & (initial[\"Class\"] == 4)][\"Bare Nuclei\"]).mode()\n",
    "initial.loc[(initial[\"Bare Nuclei\"] == \"?\") & (initial[\"Class\"] == 2), \"Bare Nuclei\"] = int(class_B_mode)\n",
    "initial.loc[(initial[\"Bare Nuclei\"] == \"?\") & (initial[\"Class\"] == 4), \"Bare Nuclei\"] = int(class_M_mode)\n",
    "initial[\"Bare Nuclei\"] = pd.to_numeric(initial[\"Bare Nuclei\"])\n",
    "initial.info()"
   ]
  },
  {
   "source": [
    "## Replace Class values to 0 and 1 (0 for benign, 1 for malignant)"
   ],
   "cell_type": "markdown",
   "metadata": {}
  },
  {
   "cell_type": "code",
   "execution_count": 4,
   "metadata": {},
   "outputs": [
    {
     "output_type": "execute_result",
     "data": {
      "text/plain": [
       "array([0, 1], dtype=int64)"
      ]
     },
     "metadata": {},
     "execution_count": 4
    }
   ],
   "source": [
    "initial.loc[initial[\"Class\"] == 4, \"Class\"] = 1\n",
    "initial.loc[initial[\"Class\"] == 2, \"Class\"] = 0\n",
    "initial[\"Class\"].unique()"
   ]
  },
  {
   "source": [
    "## Getting rid of columns which will not be used in models"
   ],
   "cell_type": "markdown",
   "metadata": {}
  },
  {
   "cell_type": "code",
   "execution_count": 5,
   "metadata": {},
   "outputs": [
    {
     "output_type": "execute_result",
     "data": {
      "text/plain": [
       "     Clump Thickness  Uniformity of Cell Shape  Marginal Adhesion  \\\n",
       "0                  5                         1                  1   \n",
       "1                  5                         4                  5   \n",
       "2                  3                         1                  1   \n",
       "3                  6                         8                  1   \n",
       "4                  4                         1                  3   \n",
       "..               ...                       ...                ...   \n",
       "694                3                         1                  1   \n",
       "695                2                         1                  1   \n",
       "696                5                        10                  3   \n",
       "697                4                         6                  4   \n",
       "698                4                         8                  5   \n",
       "\n",
       "     Single Epithelial Cell Size  Bare Nuclei  Bland Chromatin  \\\n",
       "0                              2            1                3   \n",
       "1                              7           10                3   \n",
       "2                              2            2                3   \n",
       "3                              3            4                3   \n",
       "4                              2            1                3   \n",
       "..                           ...          ...              ...   \n",
       "694                            3            2                1   \n",
       "695                            2            1                1   \n",
       "696                            7            3                8   \n",
       "697                            3            4               10   \n",
       "698                            4            5               10   \n",
       "\n",
       "     Normal Nucleoli  Mitoses  Class  \n",
       "0                  1        1      0  \n",
       "1                  2        1      0  \n",
       "2                  1        1      0  \n",
       "3                  7        1      0  \n",
       "4                  1        1      0  \n",
       "..               ...      ...    ...  \n",
       "694                1        1      0  \n",
       "695                1        1      0  \n",
       "696               10        2      1  \n",
       "697                6        1      1  \n",
       "698                4        1      1  \n",
       "\n",
       "[699 rows x 9 columns]"
      ],
      "text/html": "<div>\n<style scoped>\n    .dataframe tbody tr th:only-of-type {\n        vertical-align: middle;\n    }\n\n    .dataframe tbody tr th {\n        vertical-align: top;\n    }\n\n    .dataframe thead th {\n        text-align: right;\n    }\n</style>\n<table border=\"1\" class=\"dataframe\">\n  <thead>\n    <tr style=\"text-align: right;\">\n      <th></th>\n      <th>Clump Thickness</th>\n      <th>Uniformity of Cell Shape</th>\n      <th>Marginal Adhesion</th>\n      <th>Single Epithelial Cell Size</th>\n      <th>Bare Nuclei</th>\n      <th>Bland Chromatin</th>\n      <th>Normal Nucleoli</th>\n      <th>Mitoses</th>\n      <th>Class</th>\n    </tr>\n  </thead>\n  <tbody>\n    <tr>\n      <th>0</th>\n      <td>5</td>\n      <td>1</td>\n      <td>1</td>\n      <td>2</td>\n      <td>1</td>\n      <td>3</td>\n      <td>1</td>\n      <td>1</td>\n      <td>0</td>\n    </tr>\n    <tr>\n      <th>1</th>\n      <td>5</td>\n      <td>4</td>\n      <td>5</td>\n      <td>7</td>\n      <td>10</td>\n      <td>3</td>\n      <td>2</td>\n      <td>1</td>\n      <td>0</td>\n    </tr>\n    <tr>\n      <th>2</th>\n      <td>3</td>\n      <td>1</td>\n      <td>1</td>\n      <td>2</td>\n      <td>2</td>\n      <td>3</td>\n      <td>1</td>\n      <td>1</td>\n      <td>0</td>\n    </tr>\n    <tr>\n      <th>3</th>\n      <td>6</td>\n      <td>8</td>\n      <td>1</td>\n      <td>3</td>\n      <td>4</td>\n      <td>3</td>\n      <td>7</td>\n      <td>1</td>\n      <td>0</td>\n    </tr>\n    <tr>\n      <th>4</th>\n      <td>4</td>\n      <td>1</td>\n      <td>3</td>\n      <td>2</td>\n      <td>1</td>\n      <td>3</td>\n      <td>1</td>\n      <td>1</td>\n      <td>0</td>\n    </tr>\n    <tr>\n      <th>...</th>\n      <td>...</td>\n      <td>...</td>\n      <td>...</td>\n      <td>...</td>\n      <td>...</td>\n      <td>...</td>\n      <td>...</td>\n      <td>...</td>\n      <td>...</td>\n    </tr>\n    <tr>\n      <th>694</th>\n      <td>3</td>\n      <td>1</td>\n      <td>1</td>\n      <td>3</td>\n      <td>2</td>\n      <td>1</td>\n      <td>1</td>\n      <td>1</td>\n      <td>0</td>\n    </tr>\n    <tr>\n      <th>695</th>\n      <td>2</td>\n      <td>1</td>\n      <td>1</td>\n      <td>2</td>\n      <td>1</td>\n      <td>1</td>\n      <td>1</td>\n      <td>1</td>\n      <td>0</td>\n    </tr>\n    <tr>\n      <th>696</th>\n      <td>5</td>\n      <td>10</td>\n      <td>3</td>\n      <td>7</td>\n      <td>3</td>\n      <td>8</td>\n      <td>10</td>\n      <td>2</td>\n      <td>1</td>\n    </tr>\n    <tr>\n      <th>697</th>\n      <td>4</td>\n      <td>6</td>\n      <td>4</td>\n      <td>3</td>\n      <td>4</td>\n      <td>10</td>\n      <td>6</td>\n      <td>1</td>\n      <td>1</td>\n    </tr>\n    <tr>\n      <th>698</th>\n      <td>4</td>\n      <td>8</td>\n      <td>5</td>\n      <td>4</td>\n      <td>5</td>\n      <td>10</td>\n      <td>4</td>\n      <td>1</td>\n      <td>1</td>\n    </tr>\n  </tbody>\n</table>\n<p>699 rows × 9 columns</p>\n</div>"
     },
     "metadata": {},
     "execution_count": 5
    }
   ],
   "source": [
    "prepared_data = initial.drop([\"Sample code number\", \"Uniformity of Cell Size\"], axis=1)\n",
    "prepared_data"
   ]
  },
  {
   "source": [
    "## Exporting preapred dataframe to CSV file"
   ],
   "cell_type": "markdown",
   "metadata": {}
  },
  {
   "cell_type": "code",
   "execution_count": 7,
   "metadata": {},
   "outputs": [],
   "source": [
    "prepared_data.to_csv(\"03_Prepared_data.csv\", index=False)"
   ]
  }
 ]
}