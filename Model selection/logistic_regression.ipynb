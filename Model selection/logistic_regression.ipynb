{
  "metadata": {
    "anaconda-cloud": {},
    "kernelspec": {
      "name": "python3810jvsc74a57bd0c8a9d36e8b5174058a1a505fdd53573d7575bbce5f04664518cf239dcd87db3b",
      "display_name": "Python 3.8.10 64-bit ('PythonSoftwareFoundation.Python.3.8_qbz5n2kfra8p0')"
    },
    "language_info": {
      "mimetype": "text/x-python",
      "codemirror_mode": {
        "version": 3,
        "name": "ipython"
      },
      "name": "python",
      "pygments_lexer": "ipython3",
      "nbconvert_exporter": "python",
      "version": "3.8.10",
      "file_extension": ".py"
    },
    "metadata": {
      "interpreter": {
        "hash": "c8a9d36e8b5174058a1a505fdd53573d7575bbce5f04664518cf239dcd87db3b"
      }
    }
  },
  "cells": [
    {
      "metadata": {},
      "execution_count": 14,
      "cell_type": "code",
      "source": [
        "import pandas as pd\n",
        "import numpy as np\n",
        "from sklearn.decomposition import PCA\n",
        "from sklearn.linear_model import LogisticRegression\n",
        "from sklearn.metrics import classification_report\n",
        "from sklearn.pipeline import Pipeline\n",
        "from sklearn.model_selection import GridSearchCV, train_test_split, KFold, cross_val_score\n",
        "from sklearn.preprocessing import StandardScaler\n",
        "\n",
        "import warnings\n",
        "warnings.filterwarnings(\"ignore\")"
      ],
      "outputs": []
    },
    {
      "cell_type": "code",
      "execution_count": 15,
      "metadata": {},
      "outputs": [],
      "source": [
        "data = pd.read_csv(r\"../Data/03_Prepared_data.csv\")"
      ]
    },
    {
      "cell_type": "code",
      "execution_count": 16,
      "metadata": {},
      "outputs": [],
      "source": [
        "random_state = 1"
      ]
    },
    {
      "cell_type": "code",
      "execution_count": 17,
      "metadata": {},
      "outputs": [
        {
          "output_type": "execute_result",
          "data": {
            "text/plain": [
              "     Clump Thickness  Uniformity of Cell Shape  Marginal Adhesion  \\\n",
              "0                  5                         1                  1   \n",
              "1                  5                         4                  5   \n",
              "2                  3                         1                  1   \n",
              "3                  6                         8                  1   \n",
              "4                  4                         1                  3   \n",
              "..               ...                       ...                ...   \n",
              "694                3                         1                  1   \n",
              "695                2                         1                  1   \n",
              "696                5                        10                  3   \n",
              "697                4                         6                  4   \n",
              "698                4                         8                  5   \n",
              "\n",
              "     Single Epithelial Cell Size  Bare Nuclei  Bland Chromatin  \\\n",
              "0                              2            1                3   \n",
              "1                              7           10                3   \n",
              "2                              2            2                3   \n",
              "3                              3            4                3   \n",
              "4                              2            1                3   \n",
              "..                           ...          ...              ...   \n",
              "694                            3            2                1   \n",
              "695                            2            1                1   \n",
              "696                            7            3                8   \n",
              "697                            3            4               10   \n",
              "698                            4            5               10   \n",
              "\n",
              "     Normal Nucleoli  Mitoses  Class  \n",
              "0                  1        1      0  \n",
              "1                  2        1      0  \n",
              "2                  1        1      0  \n",
              "3                  7        1      0  \n",
              "4                  1        1      0  \n",
              "..               ...      ...    ...  \n",
              "694                1        1      0  \n",
              "695                1        1      0  \n",
              "696               10        2      1  \n",
              "697                6        1      1  \n",
              "698                4        1      1  \n",
              "\n",
              "[699 rows x 9 columns]"
            ],
            "text/html": "<div>\n<style scoped>\n    .dataframe tbody tr th:only-of-type {\n        vertical-align: middle;\n    }\n\n    .dataframe tbody tr th {\n        vertical-align: top;\n    }\n\n    .dataframe thead th {\n        text-align: right;\n    }\n</style>\n<table border=\"1\" class=\"dataframe\">\n  <thead>\n    <tr style=\"text-align: right;\">\n      <th></th>\n      <th>Clump Thickness</th>\n      <th>Uniformity of Cell Shape</th>\n      <th>Marginal Adhesion</th>\n      <th>Single Epithelial Cell Size</th>\n      <th>Bare Nuclei</th>\n      <th>Bland Chromatin</th>\n      <th>Normal Nucleoli</th>\n      <th>Mitoses</th>\n      <th>Class</th>\n    </tr>\n  </thead>\n  <tbody>\n    <tr>\n      <th>0</th>\n      <td>5</td>\n      <td>1</td>\n      <td>1</td>\n      <td>2</td>\n      <td>1</td>\n      <td>3</td>\n      <td>1</td>\n      <td>1</td>\n      <td>0</td>\n    </tr>\n    <tr>\n      <th>1</th>\n      <td>5</td>\n      <td>4</td>\n      <td>5</td>\n      <td>7</td>\n      <td>10</td>\n      <td>3</td>\n      <td>2</td>\n      <td>1</td>\n      <td>0</td>\n    </tr>\n    <tr>\n      <th>2</th>\n      <td>3</td>\n      <td>1</td>\n      <td>1</td>\n      <td>2</td>\n      <td>2</td>\n      <td>3</td>\n      <td>1</td>\n      <td>1</td>\n      <td>0</td>\n    </tr>\n    <tr>\n      <th>3</th>\n      <td>6</td>\n      <td>8</td>\n      <td>1</td>\n      <td>3</td>\n      <td>4</td>\n      <td>3</td>\n      <td>7</td>\n      <td>1</td>\n      <td>0</td>\n    </tr>\n    <tr>\n      <th>4</th>\n      <td>4</td>\n      <td>1</td>\n      <td>3</td>\n      <td>2</td>\n      <td>1</td>\n      <td>3</td>\n      <td>1</td>\n      <td>1</td>\n      <td>0</td>\n    </tr>\n    <tr>\n      <th>...</th>\n      <td>...</td>\n      <td>...</td>\n      <td>...</td>\n      <td>...</td>\n      <td>...</td>\n      <td>...</td>\n      <td>...</td>\n      <td>...</td>\n      <td>...</td>\n    </tr>\n    <tr>\n      <th>694</th>\n      <td>3</td>\n      <td>1</td>\n      <td>1</td>\n      <td>3</td>\n      <td>2</td>\n      <td>1</td>\n      <td>1</td>\n      <td>1</td>\n      <td>0</td>\n    </tr>\n    <tr>\n      <th>695</th>\n      <td>2</td>\n      <td>1</td>\n      <td>1</td>\n      <td>2</td>\n      <td>1</td>\n      <td>1</td>\n      <td>1</td>\n      <td>1</td>\n      <td>0</td>\n    </tr>\n    <tr>\n      <th>696</th>\n      <td>5</td>\n      <td>10</td>\n      <td>3</td>\n      <td>7</td>\n      <td>3</td>\n      <td>8</td>\n      <td>10</td>\n      <td>2</td>\n      <td>1</td>\n    </tr>\n    <tr>\n      <th>697</th>\n      <td>4</td>\n      <td>6</td>\n      <td>4</td>\n      <td>3</td>\n      <td>4</td>\n      <td>10</td>\n      <td>6</td>\n      <td>1</td>\n      <td>1</td>\n    </tr>\n    <tr>\n      <th>698</th>\n      <td>4</td>\n      <td>8</td>\n      <td>5</td>\n      <td>4</td>\n      <td>5</td>\n      <td>10</td>\n      <td>4</td>\n      <td>1</td>\n      <td>1</td>\n    </tr>\n  </tbody>\n</table>\n<p>699 rows × 9 columns</p>\n</div>"
          },
          "metadata": {},
          "execution_count": 17
        }
      ],
      "source": [
        "data"
      ]
    },
    {
      "cell_type": "code",
      "execution_count": 29,
      "metadata": {},
      "outputs": [],
      "source": [
        "features = data.drop([\"Class\"], axis=1)\n",
        "labels = data[\"Class\"]"
      ]
    },
    {
      "cell_type": "code",
      "execution_count": 19,
      "metadata": {},
      "outputs": [],
      "source": [
        "# # From all data split train (X, y) and test (X_test, y_test)\n",
        "X, X_test, y, y_test = train_test_split(features, labels, test_size=0.3, random_state=random_state)\n",
        "\n",
        "# Creating an scaler object\n",
        "std_slc = StandardScaler()\n",
        "\n",
        "# Creating a pca object\n",
        "pca = PCA()\n",
        "\n",
        "# Creating a logistic regression object\n",
        "logistic_Reg = LogisticRegression(random_state=random_state)"
      ]
    },
    {
      "cell_type": "code",
      "execution_count": 20,
      "metadata": {},
      "outputs": [],
      "source": [
        "# Creating a pipeline of three steps\n",
        "# First, standardizing the data\n",
        "# Second, transforming the data with PCA\n",
        "# Third, training a logistic regression on the data\n",
        "pipe = Pipeline(steps=[('std_slc', std_slc),\n",
        "                       ('pca', pca),\n",
        "                       ('logistic_Reg', logistic_Reg)])"
      ]
    },
    {
      "cell_type": "code",
      "execution_count": 21,
      "metadata": {},
      "outputs": [],
      "source": [
        "# Creating a list of a sequence of integers from 1 to 8 (the number of features in X + 1)\n",
        "n_components = list(range(1, X.shape[1] + 1, 1))\n",
        "# Creating a list of values of the regularization parameter\n",
        "# C = [0.0001, 0.001, 0.01, 0.1, 1, 10, 100, 1000]\n",
        "c = np.logspace(-4, 4, 50)\n",
        "# Creating a list of options for the regularization penalty\n",
        "penalty = ['l1', 'l2']\n",
        "# Creating a dictionary of all the parameter options\n",
        "hyper_parameters = dict(pca__n_components=n_components,\n",
        "                        logistic_Reg__C=c,\n",
        "                        logistic_Reg__penalty=penalty)"
      ]
    },
    {
      "cell_type": "code",
      "execution_count": 22,
      "metadata": {},
      "outputs": [
        {
          "output_type": "execute_result",
          "data": {
            "text/plain": [
              "GridSearchCV(cv=KFold(n_splits=10, random_state=1, shuffle=True),\n",
              "             estimator=Pipeline(steps=[('std_slc', StandardScaler()),\n",
              "                                       ('pca', PCA()),\n",
              "                                       ('logistic_Reg',\n",
              "                                        LogisticRegression(random_state=1))]),\n",
              "             param_grid={'logistic_Reg__C': array([1.00000000e-04, 1.45634848e-04, 2.12095089e-04, 3.08884360e-04,\n",
              "       4.49843267e-04, 6.55128557e-04, 9.54095476e-04, 1.38949549e-03,\n",
              "       2.02358...\n",
              "       1.67683294e+01, 2.44205309e+01, 3.55648031e+01, 5.17947468e+01,\n",
              "       7.54312006e+01, 1.09854114e+02, 1.59985872e+02, 2.32995181e+02,\n",
              "       3.39322177e+02, 4.94171336e+02, 7.19685673e+02, 1.04811313e+03,\n",
              "       1.52641797e+03, 2.22299648e+03, 3.23745754e+03, 4.71486636e+03,\n",
              "       6.86648845e+03, 1.00000000e+04]),\n",
              "                         'logistic_Reg__penalty': ['l1', 'l2'],\n",
              "                         'pca__n_components': [1, 2, 3, 4, 5, 6, 7, 8]},\n",
              "             scoring='recall')"
            ]
          },
          "metadata": {},
          "execution_count": 22
        }
      ],
      "source": [
        "# Creating a grid search object\n",
        "# First split (X,y) into (X_train, y_train) and (X_val, y_val)\n",
        "cv = KFold(n_splits=10, random_state=random_state, shuffle=True)\n",
        "# score = ['recall', 'accuracy', 'roc_auc']\n",
        "clf_GS = GridSearchCV(pipe, hyper_parameters, cv=cv, scoring='recall')\n",
        "# clf_GS_acc = GridSearchCV(pipe, hyper_parameters, cv=cv, scoring='accuracy')\n",
        "# clf_GS_auc = GridSearchCV(pipe, hyper_parameters, cv=cv, scoring='roc_auc')\n",
        "\n",
        "# Fitting the grid search\n",
        "clf_GS.fit(X, y)"
      ]
    },
    {
      "cell_type": "code",
      "execution_count": 24,
      "metadata": {},
      "outputs": [],
      "source": [
        "# Viewing The Best Parameters\n",
        "# print('Best Penalty:', clf_GS.best_estimator_.get_params()['logistic_Reg__penalty'])\n",
        "# print('Best C:', clf_GS.best_estimator_.get_params()['logistic_Reg__C'])\n",
        "# print('Best Number Of Components:', clf_GS.best_estimator_.get_params()['pca__n_components'])\n",
        "\n",
        "# Choose best estimator\n",
        "best_model = clf_GS.best_estimator_.named_steps['logistic_Reg']\n",
        "\n",
        "# Confirm transformations into X_test data StandardScaler() and PCA()\n",
        "test_full_imp = clf_GS.best_estimator_.named_steps['std_slc'].transform(X_test)\n",
        "test_final = clf_GS.best_estimator_.named_steps['pca'].transform(test_full_imp)"
      ]
    },
    {
      "cell_type": "code",
      "execution_count": 25,
      "metadata": {},
      "outputs": [],
      "source": [
        "# Use best model for prediction\n",
        "y_pred = best_model.predict(test_final)"
      ]
    },
    {
      "cell_type": "code",
      "execution_count": 26,
      "metadata": {},
      "outputs": [
        {
          "output_type": "stream",
          "name": "stdout",
          "text": [
            "              precision    recall  f1-score   support\n\n   Malignant       0.95      0.98      0.96       137\n      Benign       0.96      0.90      0.93        73\n\n    accuracy                           0.95       210\n   macro avg       0.95      0.94      0.95       210\nweighted avg       0.95      0.95      0.95       210\n\n"
          ]
        }
      ],
      "source": [
        "# Print classification report\n",
        "target_names = ['Malignant', 'Benign']\n",
        "print(classification_report(y_test, y_pred, target_names=target_names))"
      ]
    },
    {
      "source": [
        "## Saving the model via pickle"
      ],
      "cell_type": "markdown",
      "metadata": {}
    },
    {
      "cell_type": "code",
      "execution_count": 30,
      "metadata": {},
      "outputs": [],
      "source": [
        "# import pickle\n",
        "# filename = r'../Trained models/LogisticRegression_trained.sav'\n",
        "# pickle.dump(best_model, open(filename, 'wb'))"
      ]
    }
  ],
  "nbformat_minor": 4,
  "nbformat": 4
}