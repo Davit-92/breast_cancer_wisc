{
 "metadata": {
  "language_info": {
   "codemirror_mode": {
    "name": "ipython",
    "version": 3
   },
   "file_extension": ".py",
   "mimetype": "text/x-python",
   "name": "python",
   "nbconvert_exporter": "python",
   "pygments_lexer": "ipython3",
   "version": "3.8.10"
  },
  "orig_nbformat": 2,
  "kernelspec": {
   "name": "python3810jvsc74a57bd021d9811d59591d7cdad76626bdd9ece7a0c01645239e57a70ffbea68a449b673",
   "display_name": "Python 3.8.10 64-bit (windows store)"
  },
  "metadata": {
   "interpreter": {
    "hash": "21d9811d59591d7cdad76626bdd9ece7a0c01645239e57a70ffbea68a449b673"
   }
  }
 },
 "nbformat": 4,
 "nbformat_minor": 2,
 "cells": [
  {
   "cell_type": "code",
   "execution_count": 1,
   "metadata": {},
   "outputs": [],
   "source": [
    "import numpy as np\n",
    "import pandas as pd"
   ]
  },
  {
   "source": [
    "## Loading prepared data"
   ],
   "cell_type": "markdown",
   "metadata": {}
  },
  {
   "cell_type": "code",
   "execution_count": 2,
   "metadata": {},
   "outputs": [
    {
     "output_type": "execute_result",
     "data": {
      "text/plain": [
       "   Clump Thickness  Uniformity of Cell Shape  Marginal Adhesion  \\\n",
       "0                5                         1                  1   \n",
       "1                5                         4                  5   \n",
       "2                3                         1                  1   \n",
       "3                6                         8                  1   \n",
       "4                4                         1                  3   \n",
       "\n",
       "   Single Epithelial Cell Size  Bare Nuclei  Bland Chromatin  Normal Nucleoli  \\\n",
       "0                            2            1                3                1   \n",
       "1                            7           10                3                2   \n",
       "2                            2            2                3                1   \n",
       "3                            3            4                3                7   \n",
       "4                            2            1                3                1   \n",
       "\n",
       "   Mitoses  Class  \n",
       "0        1      0  \n",
       "1        1      0  \n",
       "2        1      0  \n",
       "3        1      0  \n",
       "4        1      0  "
      ],
      "text/html": "<div>\n<style scoped>\n    .dataframe tbody tr th:only-of-type {\n        vertical-align: middle;\n    }\n\n    .dataframe tbody tr th {\n        vertical-align: top;\n    }\n\n    .dataframe thead th {\n        text-align: right;\n    }\n</style>\n<table border=\"1\" class=\"dataframe\">\n  <thead>\n    <tr style=\"text-align: right;\">\n      <th></th>\n      <th>Clump Thickness</th>\n      <th>Uniformity of Cell Shape</th>\n      <th>Marginal Adhesion</th>\n      <th>Single Epithelial Cell Size</th>\n      <th>Bare Nuclei</th>\n      <th>Bland Chromatin</th>\n      <th>Normal Nucleoli</th>\n      <th>Mitoses</th>\n      <th>Class</th>\n    </tr>\n  </thead>\n  <tbody>\n    <tr>\n      <th>0</th>\n      <td>5</td>\n      <td>1</td>\n      <td>1</td>\n      <td>2</td>\n      <td>1</td>\n      <td>3</td>\n      <td>1</td>\n      <td>1</td>\n      <td>0</td>\n    </tr>\n    <tr>\n      <th>1</th>\n      <td>5</td>\n      <td>4</td>\n      <td>5</td>\n      <td>7</td>\n      <td>10</td>\n      <td>3</td>\n      <td>2</td>\n      <td>1</td>\n      <td>0</td>\n    </tr>\n    <tr>\n      <th>2</th>\n      <td>3</td>\n      <td>1</td>\n      <td>1</td>\n      <td>2</td>\n      <td>2</td>\n      <td>3</td>\n      <td>1</td>\n      <td>1</td>\n      <td>0</td>\n    </tr>\n    <tr>\n      <th>3</th>\n      <td>6</td>\n      <td>8</td>\n      <td>1</td>\n      <td>3</td>\n      <td>4</td>\n      <td>3</td>\n      <td>7</td>\n      <td>1</td>\n      <td>0</td>\n    </tr>\n    <tr>\n      <th>4</th>\n      <td>4</td>\n      <td>1</td>\n      <td>3</td>\n      <td>2</td>\n      <td>1</td>\n      <td>3</td>\n      <td>1</td>\n      <td>1</td>\n      <td>0</td>\n    </tr>\n  </tbody>\n</table>\n</div>"
     },
     "metadata": {},
     "execution_count": 2
    }
   ],
   "source": [
    "prepared_data = pd.read_csv(r\"../Data/03_Prepared_data.csv\")\n",
    "prepared_data.head(5)"
   ]
  },
  {
   "source": [
    "## Splitting the data to X and y"
   ],
   "cell_type": "markdown",
   "metadata": {}
  },
  {
   "cell_type": "code",
   "execution_count": 3,
   "metadata": {},
   "outputs": [
    {
     "output_type": "stream",
     "name": "stdout",
     "text": [
      "(699, 8) (699,)\n"
     ]
    }
   ],
   "source": [
    "y = prepared_data[\"Class\"]\n",
    "X = prepared_data.drop([\"Class\"], axis=1)\n",
    "print(X.shape, y.shape)"
   ]
  },
  {
   "source": [
    "## Hyper parameter tuning"
   ],
   "cell_type": "markdown",
   "metadata": {}
  },
  {
   "cell_type": "code",
   "execution_count": 4,
   "metadata": {
    "tags": []
   },
   "outputs": [
    {
     "output_type": "execute_result",
     "data": {
      "text/plain": [
       "GridSearchCV(cv=5, estimator=SVC(),\n",
       "             param_grid={'C': [0.1, 0.5, 1, 5, 10],\n",
       "                         'degree': [1, 2, 3, 4, 5, 6],\n",
       "                         'gamma': [1, 0.1, 0.01, 0.001, 0.0001],\n",
       "                         'kernel': ['rbf', 'poly', 'sigmoid', 'linear']},\n",
       "             refit=False, scoring=['recall', 'accuracy', 'roc_auc'])"
      ]
     },
     "metadata": {},
     "execution_count": 4
    }
   ],
   "source": [
    "from sklearn.model_selection import GridSearchCV\n",
    "from sklearn.metrics import classification_report\n",
    "from sklearn.svm import SVC\n",
    "\n",
    "tuned_parameters = {'C':[0.1, 0.5, 1, 5, 10],'kernel':['rbf','poly','sigmoid','linear'],'degree':[1,2,3,4,5,6],'gamma': [1, 0.1, 0.01, 0.001, 0.0001]}\n",
    "scores = ['recall', 'accuracy', 'roc_auc']\n",
    "grid = GridSearchCV(SVC(),tuned_parameters, cv=5, scoring=scores, refit=False)\n",
    "grid.fit(X, y)"
   ]
  },
  {
   "source": [
    "## Choosing optimal hyper parameters"
   ],
   "cell_type": "markdown",
   "metadata": {}
  },
  {
   "cell_type": "code",
   "execution_count": 11,
   "metadata": {},
   "outputs": [],
   "source": [
    "res = pd.DataFrame(grid.cv_results_)[['param_C', 'param_degree', 'param_gamma', 'param_kernel', 'mean_test_recall',\n",
    "       'std_test_recall', 'rank_test_recall', 'mean_test_accuracy', 'rank_test_accuracy', 'mean_test_roc_auc', 'rank_test_roc_auc']]"
   ]
  },
  {
   "cell_type": "code",
   "execution_count": 12,
   "metadata": {},
   "outputs": [
    {
     "output_type": "execute_result",
     "data": {
      "text/plain": [
       "    param_C param_degree param_gamma param_kernel  mean_test_recall  \\\n",
       "4       0.1            1         0.1          rbf               1.0   \n",
       "24      0.1            2         0.1          rbf               1.0   \n",
       "44      0.1            3         0.1          rbf               1.0   \n",
       "64      0.1            4         0.1          rbf               1.0   \n",
       "84      0.1            5         0.1          rbf               1.0   \n",
       "..      ...          ...         ...          ...               ...   \n",
       "506      10            2         0.1      sigmoid               0.0   \n",
       "526      10            3         0.1      sigmoid               0.0   \n",
       "546      10            4         0.1      sigmoid               0.0   \n",
       "566      10            5         0.1      sigmoid               0.0   \n",
       "586      10            6         0.1      sigmoid               0.0   \n",
       "\n",
       "     std_test_recall  rank_test_recall  mean_test_accuracy  \\\n",
       "4                0.0                 1            0.944245   \n",
       "24               0.0                 1            0.944245   \n",
       "44               0.0                 1            0.944245   \n",
       "64               0.0                 1            0.944245   \n",
       "84               0.0                 1            0.944245   \n",
       "..               ...               ...                 ...   \n",
       "506              0.0               496            0.311840   \n",
       "526              0.0               496            0.311840   \n",
       "546              0.0               496            0.311840   \n",
       "566              0.0               496            0.311840   \n",
       "586              0.0               496            0.311840   \n",
       "\n",
       "     rank_test_accuracy  mean_test_roc_auc  rank_test_roc_auc  \n",
       "4                   357           0.985325                408  \n",
       "24                  357           0.985325                408  \n",
       "44                  357           0.985325                408  \n",
       "64                  357           0.985325                408  \n",
       "84                  357           0.985325                408  \n",
       "..                  ...                ...                ...  \n",
       "506                 595           0.006386                571  \n",
       "526                 595           0.006386                571  \n",
       "546                 595           0.006386                571  \n",
       "566                 595           0.006386                571  \n",
       "586                 595           0.006386                571  \n",
       "\n",
       "[600 rows x 11 columns]"
      ],
      "text/html": "<div>\n<style scoped>\n    .dataframe tbody tr th:only-of-type {\n        vertical-align: middle;\n    }\n\n    .dataframe tbody tr th {\n        vertical-align: top;\n    }\n\n    .dataframe thead th {\n        text-align: right;\n    }\n</style>\n<table border=\"1\" class=\"dataframe\">\n  <thead>\n    <tr style=\"text-align: right;\">\n      <th></th>\n      <th>param_C</th>\n      <th>param_degree</th>\n      <th>param_gamma</th>\n      <th>param_kernel</th>\n      <th>mean_test_recall</th>\n      <th>std_test_recall</th>\n      <th>rank_test_recall</th>\n      <th>mean_test_accuracy</th>\n      <th>rank_test_accuracy</th>\n      <th>mean_test_roc_auc</th>\n      <th>rank_test_roc_auc</th>\n    </tr>\n  </thead>\n  <tbody>\n    <tr>\n      <th>4</th>\n      <td>0.1</td>\n      <td>1</td>\n      <td>0.1</td>\n      <td>rbf</td>\n      <td>1.0</td>\n      <td>0.0</td>\n      <td>1</td>\n      <td>0.944245</td>\n      <td>357</td>\n      <td>0.985325</td>\n      <td>408</td>\n    </tr>\n    <tr>\n      <th>24</th>\n      <td>0.1</td>\n      <td>2</td>\n      <td>0.1</td>\n      <td>rbf</td>\n      <td>1.0</td>\n      <td>0.0</td>\n      <td>1</td>\n      <td>0.944245</td>\n      <td>357</td>\n      <td>0.985325</td>\n      <td>408</td>\n    </tr>\n    <tr>\n      <th>44</th>\n      <td>0.1</td>\n      <td>3</td>\n      <td>0.1</td>\n      <td>rbf</td>\n      <td>1.0</td>\n      <td>0.0</td>\n      <td>1</td>\n      <td>0.944245</td>\n      <td>357</td>\n      <td>0.985325</td>\n      <td>408</td>\n    </tr>\n    <tr>\n      <th>64</th>\n      <td>0.1</td>\n      <td>4</td>\n      <td>0.1</td>\n      <td>rbf</td>\n      <td>1.0</td>\n      <td>0.0</td>\n      <td>1</td>\n      <td>0.944245</td>\n      <td>357</td>\n      <td>0.985325</td>\n      <td>408</td>\n    </tr>\n    <tr>\n      <th>84</th>\n      <td>0.1</td>\n      <td>5</td>\n      <td>0.1</td>\n      <td>rbf</td>\n      <td>1.0</td>\n      <td>0.0</td>\n      <td>1</td>\n      <td>0.944245</td>\n      <td>357</td>\n      <td>0.985325</td>\n      <td>408</td>\n    </tr>\n    <tr>\n      <th>...</th>\n      <td>...</td>\n      <td>...</td>\n      <td>...</td>\n      <td>...</td>\n      <td>...</td>\n      <td>...</td>\n      <td>...</td>\n      <td>...</td>\n      <td>...</td>\n      <td>...</td>\n      <td>...</td>\n    </tr>\n    <tr>\n      <th>506</th>\n      <td>10</td>\n      <td>2</td>\n      <td>0.1</td>\n      <td>sigmoid</td>\n      <td>0.0</td>\n      <td>0.0</td>\n      <td>496</td>\n      <td>0.311840</td>\n      <td>595</td>\n      <td>0.006386</td>\n      <td>571</td>\n    </tr>\n    <tr>\n      <th>526</th>\n      <td>10</td>\n      <td>3</td>\n      <td>0.1</td>\n      <td>sigmoid</td>\n      <td>0.0</td>\n      <td>0.0</td>\n      <td>496</td>\n      <td>0.311840</td>\n      <td>595</td>\n      <td>0.006386</td>\n      <td>571</td>\n    </tr>\n    <tr>\n      <th>546</th>\n      <td>10</td>\n      <td>4</td>\n      <td>0.1</td>\n      <td>sigmoid</td>\n      <td>0.0</td>\n      <td>0.0</td>\n      <td>496</td>\n      <td>0.311840</td>\n      <td>595</td>\n      <td>0.006386</td>\n      <td>571</td>\n    </tr>\n    <tr>\n      <th>566</th>\n      <td>10</td>\n      <td>5</td>\n      <td>0.1</td>\n      <td>sigmoid</td>\n      <td>0.0</td>\n      <td>0.0</td>\n      <td>496</td>\n      <td>0.311840</td>\n      <td>595</td>\n      <td>0.006386</td>\n      <td>571</td>\n    </tr>\n    <tr>\n      <th>586</th>\n      <td>10</td>\n      <td>6</td>\n      <td>0.1</td>\n      <td>sigmoid</td>\n      <td>0.0</td>\n      <td>0.0</td>\n      <td>496</td>\n      <td>0.311840</td>\n      <td>595</td>\n      <td>0.006386</td>\n      <td>571</td>\n    </tr>\n  </tbody>\n</table>\n<p>600 rows × 11 columns</p>\n</div>"
     },
     "metadata": {},
     "execution_count": 12
    }
   ],
   "source": [
    "res.sort_values(by=[\"rank_test_recall\", \"rank_test_accuracy\", \"rank_test_roc_auc\"])"
   ]
  },
  {
   "cell_type": "code",
   "execution_count": 10,
   "metadata": {},
   "outputs": [
    {
     "output_type": "execute_result",
     "data": {
      "text/plain": [
       "    param_C param_degree param_gamma param_kernel  mean_test_recall  \\\n",
       "4       0.1            1         0.1          rbf               1.0   \n",
       "24      0.1            2         0.1          rbf               1.0   \n",
       "44      0.1            3         0.1          rbf               1.0   \n",
       "64      0.1            4         0.1          rbf               1.0   \n",
       "84      0.1            5         0.1          rbf               1.0   \n",
       "104     0.1            6         0.1          rbf               1.0   \n",
       "120     0.5            1           1          rbf               1.0   \n",
       "140     0.5            2           1          rbf               1.0   \n",
       "160     0.5            3           1          rbf               1.0   \n",
       "180     0.5            4           1          rbf               1.0   \n",
       "200     0.5            5           1          rbf               1.0   \n",
       "220     0.5            6           1          rbf               1.0   \n",
       "240       1            1           1          rbf               1.0   \n",
       "260       1            2           1          rbf               1.0   \n",
       "280       1            3           1          rbf               1.0   \n",
       "300       1            4           1          rbf               1.0   \n",
       "320       1            5           1          rbf               1.0   \n",
       "340       1            6           1          rbf               1.0   \n",
       "360       5            1           1          rbf               1.0   \n",
       "380       5            2           1          rbf               1.0   \n",
       "400       5            3           1          rbf               1.0   \n",
       "420       5            4           1          rbf               1.0   \n",
       "440       5            5           1          rbf               1.0   \n",
       "460       5            6           1          rbf               1.0   \n",
       "480      10            1           1          rbf               1.0   \n",
       "500      10            2           1          rbf               1.0   \n",
       "520      10            3           1          rbf               1.0   \n",
       "540      10            4           1          rbf               1.0   \n",
       "560      10            5           1          rbf               1.0   \n",
       "580      10            6           1          rbf               1.0   \n",
       "\n",
       "     std_test_recall  rank_test_recall  mean_test_accuracy  \\\n",
       "4                0.0                 1            0.944245   \n",
       "24               0.0                 1            0.944245   \n",
       "44               0.0                 1            0.944245   \n",
       "64               0.0                 1            0.944245   \n",
       "84               0.0                 1            0.944245   \n",
       "104              0.0                 1            0.944245   \n",
       "120              0.0                 1            0.845550   \n",
       "140              0.0                 1            0.845550   \n",
       "160              0.0                 1            0.845550   \n",
       "180              0.0                 1            0.845550   \n",
       "200              0.0                 1            0.845550   \n",
       "220              0.0                 1            0.845550   \n",
       "240              0.0                 1            0.892754   \n",
       "260              0.0                 1            0.892754   \n",
       "280              0.0                 1            0.892754   \n",
       "300              0.0                 1            0.892754   \n",
       "320              0.0                 1            0.892754   \n",
       "340              0.0                 1            0.892754   \n",
       "360              0.0                 1            0.897040   \n",
       "380              0.0                 1            0.897040   \n",
       "400              0.0                 1            0.897040   \n",
       "420              0.0                 1            0.897040   \n",
       "440              0.0                 1            0.897040   \n",
       "460              0.0                 1            0.897040   \n",
       "480              0.0                 1            0.897040   \n",
       "500              0.0                 1            0.897040   \n",
       "520              0.0                 1            0.897040   \n",
       "540              0.0                 1            0.897040   \n",
       "560              0.0                 1            0.897040   \n",
       "580              0.0                 1            0.897040   \n",
       "\n",
       "     rank_test_accuracy  mean_test_roc_auc  rank_test_roc_auc  \n",
       "4                   357           0.985325                408  \n",
       "24                  357           0.985325                408  \n",
       "44                  357           0.985325                408  \n",
       "64                  357           0.985325                408  \n",
       "84                  357           0.985325                408  \n",
       "104                 357           0.985325                408  \n",
       "120                 449           0.979167                430  \n",
       "140                 449           0.979167                430  \n",
       "160                 449           0.979167                430  \n",
       "180                 449           0.979167                430  \n",
       "200                 449           0.979167                430  \n",
       "220                 449           0.979167                430  \n",
       "240                 439           0.979212                424  \n",
       "260                 439           0.979212                424  \n",
       "280                 439           0.979212                424  \n",
       "300                 439           0.979212                424  \n",
       "320                 439           0.979212                424  \n",
       "340                 439           0.979212                424  \n",
       "360                 427           0.979167                430  \n",
       "380                 427           0.979167                430  \n",
       "400                 427           0.979167                430  \n",
       "420                 427           0.979167                430  \n",
       "440                 427           0.979167                430  \n",
       "460                 427           0.979167                430  \n",
       "480                 427           0.979167                430  \n",
       "500                 427           0.979167                430  \n",
       "520                 427           0.979167                430  \n",
       "540                 427           0.979167                430  \n",
       "560                 427           0.979167                430  \n",
       "580                 427           0.979167                430  "
      ],
      "text/html": "<div>\n<style scoped>\n    .dataframe tbody tr th:only-of-type {\n        vertical-align: middle;\n    }\n\n    .dataframe tbody tr th {\n        vertical-align: top;\n    }\n\n    .dataframe thead th {\n        text-align: right;\n    }\n</style>\n<table border=\"1\" class=\"dataframe\">\n  <thead>\n    <tr style=\"text-align: right;\">\n      <th></th>\n      <th>param_C</th>\n      <th>param_degree</th>\n      <th>param_gamma</th>\n      <th>param_kernel</th>\n      <th>mean_test_recall</th>\n      <th>std_test_recall</th>\n      <th>rank_test_recall</th>\n      <th>mean_test_accuracy</th>\n      <th>rank_test_accuracy</th>\n      <th>mean_test_roc_auc</th>\n      <th>rank_test_roc_auc</th>\n    </tr>\n  </thead>\n  <tbody>\n    <tr>\n      <th>4</th>\n      <td>0.1</td>\n      <td>1</td>\n      <td>0.1</td>\n      <td>rbf</td>\n      <td>1.0</td>\n      <td>0.0</td>\n      <td>1</td>\n      <td>0.944245</td>\n      <td>357</td>\n      <td>0.985325</td>\n      <td>408</td>\n    </tr>\n    <tr>\n      <th>24</th>\n      <td>0.1</td>\n      <td>2</td>\n      <td>0.1</td>\n      <td>rbf</td>\n      <td>1.0</td>\n      <td>0.0</td>\n      <td>1</td>\n      <td>0.944245</td>\n      <td>357</td>\n      <td>0.985325</td>\n      <td>408</td>\n    </tr>\n    <tr>\n      <th>44</th>\n      <td>0.1</td>\n      <td>3</td>\n      <td>0.1</td>\n      <td>rbf</td>\n      <td>1.0</td>\n      <td>0.0</td>\n      <td>1</td>\n      <td>0.944245</td>\n      <td>357</td>\n      <td>0.985325</td>\n      <td>408</td>\n    </tr>\n    <tr>\n      <th>64</th>\n      <td>0.1</td>\n      <td>4</td>\n      <td>0.1</td>\n      <td>rbf</td>\n      <td>1.0</td>\n      <td>0.0</td>\n      <td>1</td>\n      <td>0.944245</td>\n      <td>357</td>\n      <td>0.985325</td>\n      <td>408</td>\n    </tr>\n    <tr>\n      <th>84</th>\n      <td>0.1</td>\n      <td>5</td>\n      <td>0.1</td>\n      <td>rbf</td>\n      <td>1.0</td>\n      <td>0.0</td>\n      <td>1</td>\n      <td>0.944245</td>\n      <td>357</td>\n      <td>0.985325</td>\n      <td>408</td>\n    </tr>\n    <tr>\n      <th>104</th>\n      <td>0.1</td>\n      <td>6</td>\n      <td>0.1</td>\n      <td>rbf</td>\n      <td>1.0</td>\n      <td>0.0</td>\n      <td>1</td>\n      <td>0.944245</td>\n      <td>357</td>\n      <td>0.985325</td>\n      <td>408</td>\n    </tr>\n    <tr>\n      <th>120</th>\n      <td>0.5</td>\n      <td>1</td>\n      <td>1</td>\n      <td>rbf</td>\n      <td>1.0</td>\n      <td>0.0</td>\n      <td>1</td>\n      <td>0.845550</td>\n      <td>449</td>\n      <td>0.979167</td>\n      <td>430</td>\n    </tr>\n    <tr>\n      <th>140</th>\n      <td>0.5</td>\n      <td>2</td>\n      <td>1</td>\n      <td>rbf</td>\n      <td>1.0</td>\n      <td>0.0</td>\n      <td>1</td>\n      <td>0.845550</td>\n      <td>449</td>\n      <td>0.979167</td>\n      <td>430</td>\n    </tr>\n    <tr>\n      <th>160</th>\n      <td>0.5</td>\n      <td>3</td>\n      <td>1</td>\n      <td>rbf</td>\n      <td>1.0</td>\n      <td>0.0</td>\n      <td>1</td>\n      <td>0.845550</td>\n      <td>449</td>\n      <td>0.979167</td>\n      <td>430</td>\n    </tr>\n    <tr>\n      <th>180</th>\n      <td>0.5</td>\n      <td>4</td>\n      <td>1</td>\n      <td>rbf</td>\n      <td>1.0</td>\n      <td>0.0</td>\n      <td>1</td>\n      <td>0.845550</td>\n      <td>449</td>\n      <td>0.979167</td>\n      <td>430</td>\n    </tr>\n    <tr>\n      <th>200</th>\n      <td>0.5</td>\n      <td>5</td>\n      <td>1</td>\n      <td>rbf</td>\n      <td>1.0</td>\n      <td>0.0</td>\n      <td>1</td>\n      <td>0.845550</td>\n      <td>449</td>\n      <td>0.979167</td>\n      <td>430</td>\n    </tr>\n    <tr>\n      <th>220</th>\n      <td>0.5</td>\n      <td>6</td>\n      <td>1</td>\n      <td>rbf</td>\n      <td>1.0</td>\n      <td>0.0</td>\n      <td>1</td>\n      <td>0.845550</td>\n      <td>449</td>\n      <td>0.979167</td>\n      <td>430</td>\n    </tr>\n    <tr>\n      <th>240</th>\n      <td>1</td>\n      <td>1</td>\n      <td>1</td>\n      <td>rbf</td>\n      <td>1.0</td>\n      <td>0.0</td>\n      <td>1</td>\n      <td>0.892754</td>\n      <td>439</td>\n      <td>0.979212</td>\n      <td>424</td>\n    </tr>\n    <tr>\n      <th>260</th>\n      <td>1</td>\n      <td>2</td>\n      <td>1</td>\n      <td>rbf</td>\n      <td>1.0</td>\n      <td>0.0</td>\n      <td>1</td>\n      <td>0.892754</td>\n      <td>439</td>\n      <td>0.979212</td>\n      <td>424</td>\n    </tr>\n    <tr>\n      <th>280</th>\n      <td>1</td>\n      <td>3</td>\n      <td>1</td>\n      <td>rbf</td>\n      <td>1.0</td>\n      <td>0.0</td>\n      <td>1</td>\n      <td>0.892754</td>\n      <td>439</td>\n      <td>0.979212</td>\n      <td>424</td>\n    </tr>\n    <tr>\n      <th>300</th>\n      <td>1</td>\n      <td>4</td>\n      <td>1</td>\n      <td>rbf</td>\n      <td>1.0</td>\n      <td>0.0</td>\n      <td>1</td>\n      <td>0.892754</td>\n      <td>439</td>\n      <td>0.979212</td>\n      <td>424</td>\n    </tr>\n    <tr>\n      <th>320</th>\n      <td>1</td>\n      <td>5</td>\n      <td>1</td>\n      <td>rbf</td>\n      <td>1.0</td>\n      <td>0.0</td>\n      <td>1</td>\n      <td>0.892754</td>\n      <td>439</td>\n      <td>0.979212</td>\n      <td>424</td>\n    </tr>\n    <tr>\n      <th>340</th>\n      <td>1</td>\n      <td>6</td>\n      <td>1</td>\n      <td>rbf</td>\n      <td>1.0</td>\n      <td>0.0</td>\n      <td>1</td>\n      <td>0.892754</td>\n      <td>439</td>\n      <td>0.979212</td>\n      <td>424</td>\n    </tr>\n    <tr>\n      <th>360</th>\n      <td>5</td>\n      <td>1</td>\n      <td>1</td>\n      <td>rbf</td>\n      <td>1.0</td>\n      <td>0.0</td>\n      <td>1</td>\n      <td>0.897040</td>\n      <td>427</td>\n      <td>0.979167</td>\n      <td>430</td>\n    </tr>\n    <tr>\n      <th>380</th>\n      <td>5</td>\n      <td>2</td>\n      <td>1</td>\n      <td>rbf</td>\n      <td>1.0</td>\n      <td>0.0</td>\n      <td>1</td>\n      <td>0.897040</td>\n      <td>427</td>\n      <td>0.979167</td>\n      <td>430</td>\n    </tr>\n    <tr>\n      <th>400</th>\n      <td>5</td>\n      <td>3</td>\n      <td>1</td>\n      <td>rbf</td>\n      <td>1.0</td>\n      <td>0.0</td>\n      <td>1</td>\n      <td>0.897040</td>\n      <td>427</td>\n      <td>0.979167</td>\n      <td>430</td>\n    </tr>\n    <tr>\n      <th>420</th>\n      <td>5</td>\n      <td>4</td>\n      <td>1</td>\n      <td>rbf</td>\n      <td>1.0</td>\n      <td>0.0</td>\n      <td>1</td>\n      <td>0.897040</td>\n      <td>427</td>\n      <td>0.979167</td>\n      <td>430</td>\n    </tr>\n    <tr>\n      <th>440</th>\n      <td>5</td>\n      <td>5</td>\n      <td>1</td>\n      <td>rbf</td>\n      <td>1.0</td>\n      <td>0.0</td>\n      <td>1</td>\n      <td>0.897040</td>\n      <td>427</td>\n      <td>0.979167</td>\n      <td>430</td>\n    </tr>\n    <tr>\n      <th>460</th>\n      <td>5</td>\n      <td>6</td>\n      <td>1</td>\n      <td>rbf</td>\n      <td>1.0</td>\n      <td>0.0</td>\n      <td>1</td>\n      <td>0.897040</td>\n      <td>427</td>\n      <td>0.979167</td>\n      <td>430</td>\n    </tr>\n    <tr>\n      <th>480</th>\n      <td>10</td>\n      <td>1</td>\n      <td>1</td>\n      <td>rbf</td>\n      <td>1.0</td>\n      <td>0.0</td>\n      <td>1</td>\n      <td>0.897040</td>\n      <td>427</td>\n      <td>0.979167</td>\n      <td>430</td>\n    </tr>\n    <tr>\n      <th>500</th>\n      <td>10</td>\n      <td>2</td>\n      <td>1</td>\n      <td>rbf</td>\n      <td>1.0</td>\n      <td>0.0</td>\n      <td>1</td>\n      <td>0.897040</td>\n      <td>427</td>\n      <td>0.979167</td>\n      <td>430</td>\n    </tr>\n    <tr>\n      <th>520</th>\n      <td>10</td>\n      <td>3</td>\n      <td>1</td>\n      <td>rbf</td>\n      <td>1.0</td>\n      <td>0.0</td>\n      <td>1</td>\n      <td>0.897040</td>\n      <td>427</td>\n      <td>0.979167</td>\n      <td>430</td>\n    </tr>\n    <tr>\n      <th>540</th>\n      <td>10</td>\n      <td>4</td>\n      <td>1</td>\n      <td>rbf</td>\n      <td>1.0</td>\n      <td>0.0</td>\n      <td>1</td>\n      <td>0.897040</td>\n      <td>427</td>\n      <td>0.979167</td>\n      <td>430</td>\n    </tr>\n    <tr>\n      <th>560</th>\n      <td>10</td>\n      <td>5</td>\n      <td>1</td>\n      <td>rbf</td>\n      <td>1.0</td>\n      <td>0.0</td>\n      <td>1</td>\n      <td>0.897040</td>\n      <td>427</td>\n      <td>0.979167</td>\n      <td>430</td>\n    </tr>\n    <tr>\n      <th>580</th>\n      <td>10</td>\n      <td>6</td>\n      <td>1</td>\n      <td>rbf</td>\n      <td>1.0</td>\n      <td>0.0</td>\n      <td>1</td>\n      <td>0.897040</td>\n      <td>427</td>\n      <td>0.979167</td>\n      <td>430</td>\n    </tr>\n  </tbody>\n</table>\n</div>"
     },
     "metadata": {},
     "execution_count": 10
    }
   ],
   "source": [
    "res[res[\"mean_test_recall\"]==1]"
   ]
  },
  {
   "cell_type": "code",
   "execution_count": 13,
   "metadata": {},
   "outputs": [
    {
     "output_type": "execute_result",
     "data": {
      "text/plain": [
       "       mean_test_recall  std_test_recall  rank_test_recall  \\\n",
       "count              30.0             30.0              30.0   \n",
       "mean                1.0              0.0               1.0   \n",
       "std                 0.0              0.0               0.0   \n",
       "min                 1.0              0.0               1.0   \n",
       "25%                 1.0              0.0               1.0   \n",
       "50%                 1.0              0.0               1.0   \n",
       "75%                 1.0              0.0               1.0   \n",
       "max                 1.0              0.0               1.0   \n",
       "\n",
       "       mean_test_accuracy  rank_test_accuracy  mean_test_roc_auc  \\\n",
       "count           30.000000            30.00000          30.000000   \n",
       "mean             0.895326           419.80000           0.980408   \n",
       "std              0.031785            33.01661           0.002501   \n",
       "min              0.845550           357.00000           0.979167   \n",
       "25%              0.892754           427.00000           0.979167   \n",
       "50%              0.897040           427.00000           0.979167   \n",
       "75%              0.897040           439.00000           0.979212   \n",
       "max              0.944245           449.00000           0.985325   \n",
       "\n",
       "       rank_test_roc_auc  \n",
       "count          30.000000  \n",
       "mean          424.400000  \n",
       "std             8.668612  \n",
       "min           408.000000  \n",
       "25%           424.000000  \n",
       "50%           430.000000  \n",
       "75%           430.000000  \n",
       "max           430.000000  "
      ],
      "text/html": "<div>\n<style scoped>\n    .dataframe tbody tr th:only-of-type {\n        vertical-align: middle;\n    }\n\n    .dataframe tbody tr th {\n        vertical-align: top;\n    }\n\n    .dataframe thead th {\n        text-align: right;\n    }\n</style>\n<table border=\"1\" class=\"dataframe\">\n  <thead>\n    <tr style=\"text-align: right;\">\n      <th></th>\n      <th>mean_test_recall</th>\n      <th>std_test_recall</th>\n      <th>rank_test_recall</th>\n      <th>mean_test_accuracy</th>\n      <th>rank_test_accuracy</th>\n      <th>mean_test_roc_auc</th>\n      <th>rank_test_roc_auc</th>\n    </tr>\n  </thead>\n  <tbody>\n    <tr>\n      <th>count</th>\n      <td>30.0</td>\n      <td>30.0</td>\n      <td>30.0</td>\n      <td>30.000000</td>\n      <td>30.00000</td>\n      <td>30.000000</td>\n      <td>30.000000</td>\n    </tr>\n    <tr>\n      <th>mean</th>\n      <td>1.0</td>\n      <td>0.0</td>\n      <td>1.0</td>\n      <td>0.895326</td>\n      <td>419.80000</td>\n      <td>0.980408</td>\n      <td>424.400000</td>\n    </tr>\n    <tr>\n      <th>std</th>\n      <td>0.0</td>\n      <td>0.0</td>\n      <td>0.0</td>\n      <td>0.031785</td>\n      <td>33.01661</td>\n      <td>0.002501</td>\n      <td>8.668612</td>\n    </tr>\n    <tr>\n      <th>min</th>\n      <td>1.0</td>\n      <td>0.0</td>\n      <td>1.0</td>\n      <td>0.845550</td>\n      <td>357.00000</td>\n      <td>0.979167</td>\n      <td>408.000000</td>\n    </tr>\n    <tr>\n      <th>25%</th>\n      <td>1.0</td>\n      <td>0.0</td>\n      <td>1.0</td>\n      <td>0.892754</td>\n      <td>427.00000</td>\n      <td>0.979167</td>\n      <td>424.000000</td>\n    </tr>\n    <tr>\n      <th>50%</th>\n      <td>1.0</td>\n      <td>0.0</td>\n      <td>1.0</td>\n      <td>0.897040</td>\n      <td>427.00000</td>\n      <td>0.979167</td>\n      <td>430.000000</td>\n    </tr>\n    <tr>\n      <th>75%</th>\n      <td>1.0</td>\n      <td>0.0</td>\n      <td>1.0</td>\n      <td>0.897040</td>\n      <td>439.00000</td>\n      <td>0.979212</td>\n      <td>430.000000</td>\n    </tr>\n    <tr>\n      <th>max</th>\n      <td>1.0</td>\n      <td>0.0</td>\n      <td>1.0</td>\n      <td>0.944245</td>\n      <td>449.00000</td>\n      <td>0.985325</td>\n      <td>430.000000</td>\n    </tr>\n  </tbody>\n</table>\n</div>"
     },
     "metadata": {},
     "execution_count": 13
    }
   ],
   "source": [
    "res[res[\"mean_test_recall\"]==1].describe()"
   ]
  },
  {
   "source": [
    "### As the recall of class 1 is the most important measure in this case, optimal hyperparameter should maximize it. Best parameters in this case are C=0.1, Degree=1, gamma=0.1, kernel=rbf which is the first row of previous table."
   ],
   "cell_type": "markdown",
   "metadata": {}
  },
  {
   "source": [
    "## Final fiting and testing of model"
   ],
   "cell_type": "markdown",
   "metadata": {}
  },
  {
   "cell_type": "code",
   "execution_count": 16,
   "metadata": {},
   "outputs": [],
   "source": [
    "model_final = SVC(C=0.1, degree=1, gamma=0.1, class_weight=\"balanced\")"
   ]
  },
  {
   "cell_type": "code",
   "execution_count": 17,
   "metadata": {},
   "outputs": [
    {
     "output_type": "execute_result",
     "data": {
      "text/plain": [
       "((559, 8), (140, 8), (559,), (140,))"
      ]
     },
     "metadata": {},
     "execution_count": 17
    }
   ],
   "source": [
    "from sklearn.model_selection import train_test_split\n",
    "X_train, X_test, y_train, y_test = train_test_split(X, y, test_size=0.2, random_state=0) \n",
    "X_train.shape, X_test.shape, y_train.shape, y_test.shape"
   ]
  },
  {
   "cell_type": "code",
   "execution_count": 18,
   "metadata": {},
   "outputs": [
    {
     "output_type": "execute_result",
     "data": {
      "text/plain": [
       "SVC(C=0.1, class_weight='balanced', degree=1, gamma=0.1)"
      ]
     },
     "metadata": {},
     "execution_count": 18
    }
   ],
   "source": [
    "model_final.fit(X_train, y_train)"
   ]
  },
  {
   "cell_type": "code",
   "execution_count": 19,
   "metadata": {},
   "outputs": [],
   "source": [
    "from sklearn.metrics import confusion_matrix, plot_confusion_matrix, classification_report, accuracy_score"
   ]
  },
  {
   "cell_type": "code",
   "execution_count": 16,
   "metadata": {},
   "outputs": [
    {
     "output_type": "display_data",
     "data": {
      "text/plain": "<Figure size 432x288 with 2 Axes>",
      "image/svg+xml": "<?xml version=\"1.0\" encoding=\"utf-8\" standalone=\"no\"?>\r\n<!DOCTYPE svg PUBLIC \"-//W3C//DTD SVG 1.1//EN\"\r\n  \"http://www.w3.org/Graphics/SVG/1.1/DTD/svg11.dtd\">\r\n<!-- Created with matplotlib (https://matplotlib.org/) -->\r\n<svg height=\"265.995469pt\" version=\"1.1\" viewBox=\"0 0 309.39575 265.995469\" width=\"309.39575pt\" xmlns=\"http://www.w3.org/2000/svg\" xmlns:xlink=\"http://www.w3.org/1999/xlink\">\r\n <defs>\r\n  <style type=\"text/css\">\r\n*{stroke-linecap:butt;stroke-linejoin:round;}\r\n  </style>\r\n </defs>\r\n <g id=\"figure_1\">\r\n  <g id=\"patch_1\">\r\n   <path d=\"M 0 265.995469 \r\nL 309.39575 265.995469 \r\nL 309.39575 0 \r\nL 0 0 \r\nz\r\n\" style=\"fill:none;\"/>\r\n  </g>\r\n  <g id=\"axes_1\">\r\n   <g id=\"patch_2\">\r\n    <path d=\"M 34.240625 228.439219 \r\nL 251.680625 228.439219 \r\nL 251.680625 10.999219 \r\nL 34.240625 10.999219 \r\nz\r\n\" style=\"fill:#ffffff;\"/>\r\n   </g>\r\n   <g clip-path=\"url(#p51006f8f05)\">\r\n    <image height=\"218\" id=\"image3ec7375cae\" transform=\"scale(1 -1)translate(0 -218)\" width=\"218\" x=\"34.240625\" xlink:href=\"data:image/png;base64,\r\niVBORw0KGgoAAAANSUhEUgAAANoAAADaCAYAAADAHVzbAAAABHNCSVQICAgIfAhkiAAAAplJREFUeJzt1TERAkEABEEOLTiBnARTSProLeCADBuPhkvmiqJbwSZTO27jcZz4KdvntXoCk86rB8A/EBoEhAYBoUFAaBAQGgSEBgGhQUBoEBAaBIQGAaFBQGgQEBoEhAYBoUFAaBAQGgSEBgGhQUBoEBAaBIQGAaFBQGgQEBoEhAYBoUFAaBAQGgSEBgGhQUBoEBAaBIQGAaFBQGgQEBoEhAYBoUFAaBAQGgSEBgGhQUBoEBAaBIQGAaFBQGgQEBoEhAYBoUFAaBAQGgSEBgGhQUBoEBAaBIQGAaFBQGgQEBoEhAYBoUFAaBAQGgSEBgGhQUBoEBAaBIQGAaFBQGgQEBoEhAYBoUFAaBAQGgSEBgGhQUBoEBAaBIQGAaFBQGgQEBoEhAYBoUFAaBAQGgSEBgGhQUBoEBAaBIQGAaFBQGgQEBoEhAYBoUFAaBAQGgSEBgGhQUBoEBAaBIQGAaFBYOzvy7F6BHOe1/vqCUzyaBAQGgSEBgGhQUBoEBAaBIQGAaFBQGgQEBoEhAYBoUFAaBAQGgSEBgGhQUBoEBAaBIQGAaFBQGgQEBoEhAYBoUFAaBAQGgSEBgGhQUBoEBAaBIQGAaFBQGgQEBoEhAYBoUFAaBAQGgSEBgGhQUBoEBAaBIQGAaFBQGgQEBoEhAYBoUFAaBAQGgSEBgGhQUBoEBAaBIQGAaFBQGgQEBoEhAYBoUFAaBAQGgSEBgGhQUBoEBAaBIQGAaFBQGgQEBoEhAYBoUFAaBAQGgSEBgGhQUBoEBAaBIQGAaFBQGgQEBoEhAYBoUFAaBAQGgSEBgGhQUBoEBAaBIQGAaFBQGgQEBoEhAYBoUFAaBAQGgSEBgGhQUBoEBAaBIQGAaFBQGgQEBoEhAYBoUHgCxytCZbpGgvqAAAAAElFTkSuQmCC\" y=\"-10.439219\"/>\r\n   </g>\r\n   <g id=\"matplotlib.axis_1\">\r\n    <g id=\"xtick_1\">\r\n     <g id=\"line2d_1\">\r\n      <defs>\r\n       <path d=\"M 0 0 \r\nL 0 3.5 \r\n\" id=\"md079b45b45\" style=\"stroke:#000000;stroke-width:0.8;\"/>\r\n      </defs>\r\n      <g>\r\n       <use style=\"stroke:#000000;stroke-width:0.8;\" x=\"88.600625\" xlink:href=\"#md079b45b45\" y=\"228.439219\"/>\r\n      </g>\r\n     </g>\r\n     <g id=\"text_1\">\r\n      <!-- 0 -->\r\n      <defs>\r\n       <path d=\"M 31.78125 66.40625 \r\nQ 24.171875 66.40625 20.328125 58.90625 \r\nQ 16.5 51.421875 16.5 36.375 \r\nQ 16.5 21.390625 20.328125 13.890625 \r\nQ 24.171875 6.390625 31.78125 6.390625 \r\nQ 39.453125 6.390625 43.28125 13.890625 \r\nQ 47.125 21.390625 47.125 36.375 \r\nQ 47.125 51.421875 43.28125 58.90625 \r\nQ 39.453125 66.40625 31.78125 66.40625 \r\nz\r\nM 31.78125 74.21875 \r\nQ 44.046875 74.21875 50.515625 64.515625 \r\nQ 56.984375 54.828125 56.984375 36.375 \r\nQ 56.984375 17.96875 50.515625 8.265625 \r\nQ 44.046875 -1.421875 31.78125 -1.421875 \r\nQ 19.53125 -1.421875 13.0625 8.265625 \r\nQ 6.59375 17.96875 6.59375 36.375 \r\nQ 6.59375 54.828125 13.0625 64.515625 \r\nQ 19.53125 74.21875 31.78125 74.21875 \r\nz\r\n\" id=\"DejaVuSans-48\"/>\r\n      </defs>\r\n      <g transform=\"translate(85.419375 243.037656)scale(0.1 -0.1)\">\r\n       <use xlink:href=\"#DejaVuSans-48\"/>\r\n      </g>\r\n     </g>\r\n    </g>\r\n    <g id=\"xtick_2\">\r\n     <g id=\"line2d_2\">\r\n      <g>\r\n       <use style=\"stroke:#000000;stroke-width:0.8;\" x=\"197.320625\" xlink:href=\"#md079b45b45\" y=\"228.439219\"/>\r\n      </g>\r\n     </g>\r\n     <g id=\"text_2\">\r\n      <!-- 1 -->\r\n      <defs>\r\n       <path d=\"M 12.40625 8.296875 \r\nL 28.515625 8.296875 \r\nL 28.515625 63.921875 \r\nL 10.984375 60.40625 \r\nL 10.984375 69.390625 \r\nL 28.421875 72.90625 \r\nL 38.28125 72.90625 \r\nL 38.28125 8.296875 \r\nL 54.390625 8.296875 \r\nL 54.390625 0 \r\nL 12.40625 0 \r\nz\r\n\" id=\"DejaVuSans-49\"/>\r\n      </defs>\r\n      <g transform=\"translate(194.139375 243.037656)scale(0.1 -0.1)\">\r\n       <use xlink:href=\"#DejaVuSans-49\"/>\r\n      </g>\r\n     </g>\r\n    </g>\r\n    <g id=\"text_3\">\r\n     <!-- Predicted label -->\r\n     <defs>\r\n      <path d=\"M 19.671875 64.796875 \r\nL 19.671875 37.40625 \r\nL 32.078125 37.40625 \r\nQ 38.96875 37.40625 42.71875 40.96875 \r\nQ 46.484375 44.53125 46.484375 51.125 \r\nQ 46.484375 57.671875 42.71875 61.234375 \r\nQ 38.96875 64.796875 32.078125 64.796875 \r\nz\r\nM 9.8125 72.90625 \r\nL 32.078125 72.90625 \r\nQ 44.34375 72.90625 50.609375 67.359375 \r\nQ 56.890625 61.8125 56.890625 51.125 \r\nQ 56.890625 40.328125 50.609375 34.8125 \r\nQ 44.34375 29.296875 32.078125 29.296875 \r\nL 19.671875 29.296875 \r\nL 19.671875 0 \r\nL 9.8125 0 \r\nz\r\n\" id=\"DejaVuSans-80\"/>\r\n      <path d=\"M 41.109375 46.296875 \r\nQ 39.59375 47.171875 37.8125 47.578125 \r\nQ 36.03125 48 33.890625 48 \r\nQ 26.265625 48 22.1875 43.046875 \r\nQ 18.109375 38.09375 18.109375 28.8125 \r\nL 18.109375 0 \r\nL 9.078125 0 \r\nL 9.078125 54.6875 \r\nL 18.109375 54.6875 \r\nL 18.109375 46.1875 \r\nQ 20.953125 51.171875 25.484375 53.578125 \r\nQ 30.03125 56 36.53125 56 \r\nQ 37.453125 56 38.578125 55.875 \r\nQ 39.703125 55.765625 41.0625 55.515625 \r\nz\r\n\" id=\"DejaVuSans-114\"/>\r\n      <path d=\"M 56.203125 29.59375 \r\nL 56.203125 25.203125 \r\nL 14.890625 25.203125 \r\nQ 15.484375 15.921875 20.484375 11.0625 \r\nQ 25.484375 6.203125 34.421875 6.203125 \r\nQ 39.59375 6.203125 44.453125 7.46875 \r\nQ 49.3125 8.734375 54.109375 11.28125 \r\nL 54.109375 2.78125 \r\nQ 49.265625 0.734375 44.1875 -0.34375 \r\nQ 39.109375 -1.421875 33.890625 -1.421875 \r\nQ 20.796875 -1.421875 13.15625 6.1875 \r\nQ 5.515625 13.8125 5.515625 26.8125 \r\nQ 5.515625 40.234375 12.765625 48.109375 \r\nQ 20.015625 56 32.328125 56 \r\nQ 43.359375 56 49.78125 48.890625 \r\nQ 56.203125 41.796875 56.203125 29.59375 \r\nz\r\nM 47.21875 32.234375 \r\nQ 47.125 39.59375 43.09375 43.984375 \r\nQ 39.0625 48.390625 32.421875 48.390625 \r\nQ 24.90625 48.390625 20.390625 44.140625 \r\nQ 15.875 39.890625 15.1875 32.171875 \r\nz\r\n\" id=\"DejaVuSans-101\"/>\r\n      <path d=\"M 45.40625 46.390625 \r\nL 45.40625 75.984375 \r\nL 54.390625 75.984375 \r\nL 54.390625 0 \r\nL 45.40625 0 \r\nL 45.40625 8.203125 \r\nQ 42.578125 3.328125 38.25 0.953125 \r\nQ 33.9375 -1.421875 27.875 -1.421875 \r\nQ 17.96875 -1.421875 11.734375 6.484375 \r\nQ 5.515625 14.40625 5.515625 27.296875 \r\nQ 5.515625 40.1875 11.734375 48.09375 \r\nQ 17.96875 56 27.875 56 \r\nQ 33.9375 56 38.25 53.625 \r\nQ 42.578125 51.265625 45.40625 46.390625 \r\nz\r\nM 14.796875 27.296875 \r\nQ 14.796875 17.390625 18.875 11.75 \r\nQ 22.953125 6.109375 30.078125 6.109375 \r\nQ 37.203125 6.109375 41.296875 11.75 \r\nQ 45.40625 17.390625 45.40625 27.296875 \r\nQ 45.40625 37.203125 41.296875 42.84375 \r\nQ 37.203125 48.484375 30.078125 48.484375 \r\nQ 22.953125 48.484375 18.875 42.84375 \r\nQ 14.796875 37.203125 14.796875 27.296875 \r\nz\r\n\" id=\"DejaVuSans-100\"/>\r\n      <path d=\"M 9.421875 54.6875 \r\nL 18.40625 54.6875 \r\nL 18.40625 0 \r\nL 9.421875 0 \r\nz\r\nM 9.421875 75.984375 \r\nL 18.40625 75.984375 \r\nL 18.40625 64.59375 \r\nL 9.421875 64.59375 \r\nz\r\n\" id=\"DejaVuSans-105\"/>\r\n      <path d=\"M 48.78125 52.59375 \r\nL 48.78125 44.1875 \r\nQ 44.96875 46.296875 41.140625 47.34375 \r\nQ 37.3125 48.390625 33.40625 48.390625 \r\nQ 24.65625 48.390625 19.8125 42.84375 \r\nQ 14.984375 37.3125 14.984375 27.296875 \r\nQ 14.984375 17.28125 19.8125 11.734375 \r\nQ 24.65625 6.203125 33.40625 6.203125 \r\nQ 37.3125 6.203125 41.140625 7.25 \r\nQ 44.96875 8.296875 48.78125 10.40625 \r\nL 48.78125 2.09375 \r\nQ 45.015625 0.34375 40.984375 -0.53125 \r\nQ 36.96875 -1.421875 32.421875 -1.421875 \r\nQ 20.0625 -1.421875 12.78125 6.34375 \r\nQ 5.515625 14.109375 5.515625 27.296875 \r\nQ 5.515625 40.671875 12.859375 48.328125 \r\nQ 20.21875 56 33.015625 56 \r\nQ 37.15625 56 41.109375 55.140625 \r\nQ 45.0625 54.296875 48.78125 52.59375 \r\nz\r\n\" id=\"DejaVuSans-99\"/>\r\n      <path d=\"M 18.3125 70.21875 \r\nL 18.3125 54.6875 \r\nL 36.8125 54.6875 \r\nL 36.8125 47.703125 \r\nL 18.3125 47.703125 \r\nL 18.3125 18.015625 \r\nQ 18.3125 11.328125 20.140625 9.421875 \r\nQ 21.96875 7.515625 27.59375 7.515625 \r\nL 36.8125 7.515625 \r\nL 36.8125 0 \r\nL 27.59375 0 \r\nQ 17.1875 0 13.234375 3.875 \r\nQ 9.28125 7.765625 9.28125 18.015625 \r\nL 9.28125 47.703125 \r\nL 2.6875 47.703125 \r\nL 2.6875 54.6875 \r\nL 9.28125 54.6875 \r\nL 9.28125 70.21875 \r\nz\r\n\" id=\"DejaVuSans-116\"/>\r\n      <path id=\"DejaVuSans-32\"/>\r\n      <path d=\"M 9.421875 75.984375 \r\nL 18.40625 75.984375 \r\nL 18.40625 0 \r\nL 9.421875 0 \r\nz\r\n\" id=\"DejaVuSans-108\"/>\r\n      <path d=\"M 34.28125 27.484375 \r\nQ 23.390625 27.484375 19.1875 25 \r\nQ 14.984375 22.515625 14.984375 16.5 \r\nQ 14.984375 11.71875 18.140625 8.90625 \r\nQ 21.296875 6.109375 26.703125 6.109375 \r\nQ 34.1875 6.109375 38.703125 11.40625 \r\nQ 43.21875 16.703125 43.21875 25.484375 \r\nL 43.21875 27.484375 \r\nz\r\nM 52.203125 31.203125 \r\nL 52.203125 0 \r\nL 43.21875 0 \r\nL 43.21875 8.296875 \r\nQ 40.140625 3.328125 35.546875 0.953125 \r\nQ 30.953125 -1.421875 24.3125 -1.421875 \r\nQ 15.921875 -1.421875 10.953125 3.296875 \r\nQ 6 8.015625 6 15.921875 \r\nQ 6 25.140625 12.171875 29.828125 \r\nQ 18.359375 34.515625 30.609375 34.515625 \r\nL 43.21875 34.515625 \r\nL 43.21875 35.40625 \r\nQ 43.21875 41.609375 39.140625 45 \r\nQ 35.0625 48.390625 27.6875 48.390625 \r\nQ 23 48.390625 18.546875 47.265625 \r\nQ 14.109375 46.140625 10.015625 43.890625 \r\nL 10.015625 52.203125 \r\nQ 14.9375 54.109375 19.578125 55.046875 \r\nQ 24.21875 56 28.609375 56 \r\nQ 40.484375 56 46.34375 49.84375 \r\nQ 52.203125 43.703125 52.203125 31.203125 \r\nz\r\n\" id=\"DejaVuSans-97\"/>\r\n      <path d=\"M 48.6875 27.296875 \r\nQ 48.6875 37.203125 44.609375 42.84375 \r\nQ 40.53125 48.484375 33.40625 48.484375 \r\nQ 26.265625 48.484375 22.1875 42.84375 \r\nQ 18.109375 37.203125 18.109375 27.296875 \r\nQ 18.109375 17.390625 22.1875 11.75 \r\nQ 26.265625 6.109375 33.40625 6.109375 \r\nQ 40.53125 6.109375 44.609375 11.75 \r\nQ 48.6875 17.390625 48.6875 27.296875 \r\nz\r\nM 18.109375 46.390625 \r\nQ 20.953125 51.265625 25.265625 53.625 \r\nQ 29.59375 56 35.59375 56 \r\nQ 45.5625 56 51.78125 48.09375 \r\nQ 58.015625 40.1875 58.015625 27.296875 \r\nQ 58.015625 14.40625 51.78125 6.484375 \r\nQ 45.5625 -1.421875 35.59375 -1.421875 \r\nQ 29.59375 -1.421875 25.265625 0.953125 \r\nQ 20.953125 3.328125 18.109375 8.203125 \r\nL 18.109375 0 \r\nL 9.078125 0 \r\nL 9.078125 75.984375 \r\nL 18.109375 75.984375 \r\nz\r\n\" id=\"DejaVuSans-98\"/>\r\n     </defs>\r\n     <g transform=\"translate(105.808281 256.715781)scale(0.1 -0.1)\">\r\n      <use xlink:href=\"#DejaVuSans-80\"/>\r\n      <use x=\"58.552734\" xlink:href=\"#DejaVuSans-114\"/>\r\n      <use x=\"97.416016\" xlink:href=\"#DejaVuSans-101\"/>\r\n      <use x=\"158.939453\" xlink:href=\"#DejaVuSans-100\"/>\r\n      <use x=\"222.416016\" xlink:href=\"#DejaVuSans-105\"/>\r\n      <use x=\"250.199219\" xlink:href=\"#DejaVuSans-99\"/>\r\n      <use x=\"305.179688\" xlink:href=\"#DejaVuSans-116\"/>\r\n      <use x=\"344.388672\" xlink:href=\"#DejaVuSans-101\"/>\r\n      <use x=\"405.912109\" xlink:href=\"#DejaVuSans-100\"/>\r\n      <use x=\"469.388672\" xlink:href=\"#DejaVuSans-32\"/>\r\n      <use x=\"501.175781\" xlink:href=\"#DejaVuSans-108\"/>\r\n      <use x=\"528.958984\" xlink:href=\"#DejaVuSans-97\"/>\r\n      <use x=\"590.238281\" xlink:href=\"#DejaVuSans-98\"/>\r\n      <use x=\"653.714844\" xlink:href=\"#DejaVuSans-101\"/>\r\n      <use x=\"715.238281\" xlink:href=\"#DejaVuSans-108\"/>\r\n     </g>\r\n    </g>\r\n   </g>\r\n   <g id=\"matplotlib.axis_2\">\r\n    <g id=\"ytick_1\">\r\n     <g id=\"line2d_3\">\r\n      <defs>\r\n       <path d=\"M 0 0 \r\nL -3.5 0 \r\n\" id=\"m7659978e8d\" style=\"stroke:#000000;stroke-width:0.8;\"/>\r\n      </defs>\r\n      <g>\r\n       <use style=\"stroke:#000000;stroke-width:0.8;\" x=\"34.240625\" xlink:href=\"#m7659978e8d\" y=\"65.359219\"/>\r\n      </g>\r\n     </g>\r\n     <g id=\"text_4\">\r\n      <!-- 0 -->\r\n      <g transform=\"translate(20.878125 69.158437)scale(0.1 -0.1)\">\r\n       <use xlink:href=\"#DejaVuSans-48\"/>\r\n      </g>\r\n     </g>\r\n    </g>\r\n    <g id=\"ytick_2\">\r\n     <g id=\"line2d_4\">\r\n      <g>\r\n       <use style=\"stroke:#000000;stroke-width:0.8;\" x=\"34.240625\" xlink:href=\"#m7659978e8d\" y=\"174.079219\"/>\r\n      </g>\r\n     </g>\r\n     <g id=\"text_5\">\r\n      <!-- 1 -->\r\n      <g transform=\"translate(20.878125 177.878437)scale(0.1 -0.1)\">\r\n       <use xlink:href=\"#DejaVuSans-49\"/>\r\n      </g>\r\n     </g>\r\n    </g>\r\n    <g id=\"text_6\">\r\n     <!-- True label -->\r\n     <defs>\r\n      <path d=\"M -0.296875 72.90625 \r\nL 61.375 72.90625 \r\nL 61.375 64.59375 \r\nL 35.5 64.59375 \r\nL 35.5 0 \r\nL 25.59375 0 \r\nL 25.59375 64.59375 \r\nL -0.296875 64.59375 \r\nz\r\n\" id=\"DejaVuSans-84\"/>\r\n      <path d=\"M 8.5 21.578125 \r\nL 8.5 54.6875 \r\nL 17.484375 54.6875 \r\nL 17.484375 21.921875 \r\nQ 17.484375 14.15625 20.5 10.265625 \r\nQ 23.53125 6.390625 29.59375 6.390625 \r\nQ 36.859375 6.390625 41.078125 11.03125 \r\nQ 45.3125 15.671875 45.3125 23.6875 \r\nL 45.3125 54.6875 \r\nL 54.296875 54.6875 \r\nL 54.296875 0 \r\nL 45.3125 0 \r\nL 45.3125 8.40625 \r\nQ 42.046875 3.421875 37.71875 1 \r\nQ 33.40625 -1.421875 27.6875 -1.421875 \r\nQ 18.265625 -1.421875 13.375 4.4375 \r\nQ 8.5 10.296875 8.5 21.578125 \r\nz\r\nM 31.109375 56 \r\nz\r\n\" id=\"DejaVuSans-117\"/>\r\n     </defs>\r\n     <g transform=\"translate(14.798437 144.018437)rotate(-90)scale(0.1 -0.1)\">\r\n      <use xlink:href=\"#DejaVuSans-84\"/>\r\n      <use x=\"46.333984\" xlink:href=\"#DejaVuSans-114\"/>\r\n      <use x=\"87.447266\" xlink:href=\"#DejaVuSans-117\"/>\r\n      <use x=\"150.826172\" xlink:href=\"#DejaVuSans-101\"/>\r\n      <use x=\"212.349609\" xlink:href=\"#DejaVuSans-32\"/>\r\n      <use x=\"244.136719\" xlink:href=\"#DejaVuSans-108\"/>\r\n      <use x=\"271.919922\" xlink:href=\"#DejaVuSans-97\"/>\r\n      <use x=\"333.199219\" xlink:href=\"#DejaVuSans-98\"/>\r\n      <use x=\"396.675781\" xlink:href=\"#DejaVuSans-101\"/>\r\n      <use x=\"458.199219\" xlink:href=\"#DejaVuSans-108\"/>\r\n     </g>\r\n    </g>\r\n   </g>\r\n   <g id=\"patch_3\">\r\n    <path d=\"M 34.240625 228.439219 \r\nL 34.240625 10.999219 \r\n\" style=\"fill:none;stroke:#000000;stroke-linecap:square;stroke-linejoin:miter;stroke-width:0.8;\"/>\r\n   </g>\r\n   <g id=\"patch_4\">\r\n    <path d=\"M 251.680625 228.439219 \r\nL 251.680625 10.999219 \r\n\" style=\"fill:none;stroke:#000000;stroke-linecap:square;stroke-linejoin:miter;stroke-width:0.8;\"/>\r\n   </g>\r\n   <g id=\"patch_5\">\r\n    <path d=\"M 34.240625 228.439219 \r\nL 251.680625 228.439219 \r\n\" style=\"fill:none;stroke:#000000;stroke-linecap:square;stroke-linejoin:miter;stroke-width:0.8;\"/>\r\n   </g>\r\n   <g id=\"patch_6\">\r\n    <path d=\"M 34.240625 10.999219 \r\nL 251.680625 10.999219 \r\n\" style=\"fill:none;stroke:#000000;stroke-linecap:square;stroke-linejoin:miter;stroke-width:0.8;\"/>\r\n   </g>\r\n   <g id=\"text_7\">\r\n    <!-- 0.91 -->\r\n    <defs>\r\n     <path d=\"M 10.6875 12.40625 \r\nL 21 12.40625 \r\nL 21 0 \r\nL 10.6875 0 \r\nz\r\n\" id=\"DejaVuSans-46\"/>\r\n     <path d=\"M 10.984375 1.515625 \r\nL 10.984375 10.5 \r\nQ 14.703125 8.734375 18.5 7.8125 \r\nQ 22.3125 6.890625 25.984375 6.890625 \r\nQ 35.75 6.890625 40.890625 13.453125 \r\nQ 46.046875 20.015625 46.78125 33.40625 \r\nQ 43.953125 29.203125 39.59375 26.953125 \r\nQ 35.25 24.703125 29.984375 24.703125 \r\nQ 19.046875 24.703125 12.671875 31.3125 \r\nQ 6.296875 37.9375 6.296875 49.421875 \r\nQ 6.296875 60.640625 12.9375 67.421875 \r\nQ 19.578125 74.21875 30.609375 74.21875 \r\nQ 43.265625 74.21875 49.921875 64.515625 \r\nQ 56.59375 54.828125 56.59375 36.375 \r\nQ 56.59375 19.140625 48.40625 8.859375 \r\nQ 40.234375 -1.421875 26.421875 -1.421875 \r\nQ 22.703125 -1.421875 18.890625 -0.6875 \r\nQ 15.09375 0.046875 10.984375 1.515625 \r\nz\r\nM 30.609375 32.421875 \r\nQ 37.25 32.421875 41.125 36.953125 \r\nQ 45.015625 41.5 45.015625 49.421875 \r\nQ 45.015625 57.28125 41.125 61.84375 \r\nQ 37.25 66.40625 30.609375 66.40625 \r\nQ 23.96875 66.40625 20.09375 61.84375 \r\nQ 16.21875 57.28125 16.21875 49.421875 \r\nQ 16.21875 41.5 20.09375 36.953125 \r\nQ 23.96875 32.421875 30.609375 32.421875 \r\nz\r\n\" id=\"DejaVuSans-57\"/>\r\n    </defs>\r\n    <g style=\"fill:#440154;\" transform=\"translate(77.467812 68.118594)scale(0.1 -0.1)\">\r\n     <use xlink:href=\"#DejaVuSans-48\"/>\r\n     <use x=\"63.623047\" xlink:href=\"#DejaVuSans-46\"/>\r\n     <use x=\"95.410156\" xlink:href=\"#DejaVuSans-57\"/>\r\n     <use x=\"159.033203\" xlink:href=\"#DejaVuSans-49\"/>\r\n    </g>\r\n   </g>\r\n   <g id=\"text_8\">\r\n    <!-- 0.094 -->\r\n    <defs>\r\n     <path d=\"M 37.796875 64.3125 \r\nL 12.890625 25.390625 \r\nL 37.796875 25.390625 \r\nz\r\nM 35.203125 72.90625 \r\nL 47.609375 72.90625 \r\nL 47.609375 25.390625 \r\nL 58.015625 25.390625 \r\nL 58.015625 17.1875 \r\nL 47.609375 17.1875 \r\nL 47.609375 0 \r\nL 37.796875 0 \r\nL 37.796875 17.1875 \r\nL 4.890625 17.1875 \r\nL 4.890625 26.703125 \r\nz\r\n\" id=\"DejaVuSans-52\"/>\r\n    </defs>\r\n    <g style=\"fill:#fde725;\" transform=\"translate(183.006562 68.118594)scale(0.1 -0.1)\">\r\n     <use xlink:href=\"#DejaVuSans-48\"/>\r\n     <use x=\"63.623047\" xlink:href=\"#DejaVuSans-46\"/>\r\n     <use x=\"95.410156\" xlink:href=\"#DejaVuSans-48\"/>\r\n     <use x=\"159.033203\" xlink:href=\"#DejaVuSans-57\"/>\r\n     <use x=\"222.65625\" xlink:href=\"#DejaVuSans-52\"/>\r\n    </g>\r\n   </g>\r\n   <g id=\"text_9\">\r\n    <!-- 0 -->\r\n    <g style=\"fill:#fde725;\" transform=\"translate(85.419375 176.838594)scale(0.1 -0.1)\">\r\n     <use xlink:href=\"#DejaVuSans-48\"/>\r\n    </g>\r\n   </g>\r\n   <g id=\"text_10\">\r\n    <!-- 1 -->\r\n    <g style=\"fill:#440154;\" transform=\"translate(194.139375 176.838594)scale(0.1 -0.1)\">\r\n     <use xlink:href=\"#DejaVuSans-49\"/>\r\n    </g>\r\n   </g>\r\n  </g>\r\n  <g id=\"axes_2\">\r\n   <g id=\"patch_7\">\r\n    <path clip-path=\"url(#p152cffa9dd)\" d=\"M 268.420625 228.439219 \r\nL 268.420625 227.589844 \r\nL 268.420625 11.848594 \r\nL 268.420625 10.999219 \r\nL 279.292625 10.999219 \r\nL 279.292625 11.848594 \r\nL 279.292625 227.589844 \r\nL 279.292625 228.439219 \r\nz\r\n\" style=\"fill:#ffffff;stroke:#ffffff;stroke-linejoin:miter;stroke-width:0.01;\"/>\r\n   </g>\r\n   <image height=\"217\" id=\"image8b1025b5b5\" transform=\"scale(1 -1)translate(0 -217)\" width=\"11\" x=\"268\" xlink:href=\"data:image/png;base64,\r\niVBORw0KGgoAAAANSUhEUgAAAAsAAADZCAYAAAD2WsoCAAAABHNCSVQICAgIfAhkiAAAAWFJREFUaIHt2kFuwzAQQ1FpJOdkPUPvf5C26bZANnoLAuMiWRPEJ2dkO07mR30+x+Fnz5qn2rHnWufiMQvEgjGmMJdgiPOgNqjnHtVZQHLOid9t/BXH2niuHgGJ2cbdA+P8SpDFEOcgc8p5iDMtv/VMGLE2bIK0G8YM4iZtBDFy1VHALqcbxOSMAVMY6By7yNyyjZjzHds41+Lzxh0n+P/HTc4txg0Q79P9Ij4/33fcjTZtBMcNzMHqKoXRpA14REq2MUYuIDjPWEDrmZhNDBjUhmGcU3DAVBurfjpgVKyNJeIcRhPnNWHc5NxEvO8YUG4T1kZ9d8AoGYodWGGmNpa1kdo6amNPCphjFmfpmZwvacNWNLYbuaE85hc4x4ZSEpCW/5KA1DNekcg5tRu0/LbPwYCpG9Bj0KVAlp9OigU81o592YEF5wVfCLe83dtLfsgowbjgfZZigDMxL/kjkGD8AgQsgWhMNMxTAAAAAElFTkSuQmCC\" y=\"-10\"/>\r\n   <g id=\"matplotlib.axis_3\"/>\r\n   <g id=\"matplotlib.axis_4\">\r\n    <g id=\"ytick_3\">\r\n     <g id=\"line2d_5\">\r\n      <defs>\r\n       <path d=\"M 0 0 \r\nL 3.5 0 \r\n\" id=\"m43c8b8da95\" style=\"stroke:#000000;stroke-width:0.8;\"/>\r\n      </defs>\r\n      <g>\r\n       <use style=\"stroke:#000000;stroke-width:0.8;\" x=\"279.292625\" xlink:href=\"#m43c8b8da95\" y=\"228.439219\"/>\r\n      </g>\r\n     </g>\r\n     <g id=\"text_11\">\r\n      <!-- 0.0 -->\r\n      <g transform=\"translate(286.292625 232.238437)scale(0.1 -0.1)\">\r\n       <use xlink:href=\"#DejaVuSans-48\"/>\r\n       <use x=\"63.623047\" xlink:href=\"#DejaVuSans-46\"/>\r\n       <use x=\"95.410156\" xlink:href=\"#DejaVuSans-48\"/>\r\n      </g>\r\n     </g>\r\n    </g>\r\n    <g id=\"ytick_4\">\r\n     <g id=\"line2d_6\">\r\n      <g>\r\n       <use style=\"stroke:#000000;stroke-width:0.8;\" x=\"279.292625\" xlink:href=\"#m43c8b8da95\" y=\"184.951219\"/>\r\n      </g>\r\n     </g>\r\n     <g id=\"text_12\">\r\n      <!-- 0.2 -->\r\n      <defs>\r\n       <path d=\"M 19.1875 8.296875 \r\nL 53.609375 8.296875 \r\nL 53.609375 0 \r\nL 7.328125 0 \r\nL 7.328125 8.296875 \r\nQ 12.9375 14.109375 22.625 23.890625 \r\nQ 32.328125 33.6875 34.8125 36.53125 \r\nQ 39.546875 41.84375 41.421875 45.53125 \r\nQ 43.3125 49.21875 43.3125 52.78125 \r\nQ 43.3125 58.59375 39.234375 62.25 \r\nQ 35.15625 65.921875 28.609375 65.921875 \r\nQ 23.96875 65.921875 18.8125 64.3125 \r\nQ 13.671875 62.703125 7.8125 59.421875 \r\nL 7.8125 69.390625 \r\nQ 13.765625 71.78125 18.9375 73 \r\nQ 24.125 74.21875 28.421875 74.21875 \r\nQ 39.75 74.21875 46.484375 68.546875 \r\nQ 53.21875 62.890625 53.21875 53.421875 \r\nQ 53.21875 48.921875 51.53125 44.890625 \r\nQ 49.859375 40.875 45.40625 35.40625 \r\nQ 44.1875 33.984375 37.640625 27.21875 \r\nQ 31.109375 20.453125 19.1875 8.296875 \r\nz\r\n\" id=\"DejaVuSans-50\"/>\r\n      </defs>\r\n      <g transform=\"translate(286.292625 188.750437)scale(0.1 -0.1)\">\r\n       <use xlink:href=\"#DejaVuSans-48\"/>\r\n       <use x=\"63.623047\" xlink:href=\"#DejaVuSans-46\"/>\r\n       <use x=\"95.410156\" xlink:href=\"#DejaVuSans-50\"/>\r\n      </g>\r\n     </g>\r\n    </g>\r\n    <g id=\"ytick_5\">\r\n     <g id=\"line2d_7\">\r\n      <g>\r\n       <use style=\"stroke:#000000;stroke-width:0.8;\" x=\"279.292625\" xlink:href=\"#m43c8b8da95\" y=\"141.463219\"/>\r\n      </g>\r\n     </g>\r\n     <g id=\"text_13\">\r\n      <!-- 0.4 -->\r\n      <g transform=\"translate(286.292625 145.262437)scale(0.1 -0.1)\">\r\n       <use xlink:href=\"#DejaVuSans-48\"/>\r\n       <use x=\"63.623047\" xlink:href=\"#DejaVuSans-46\"/>\r\n       <use x=\"95.410156\" xlink:href=\"#DejaVuSans-52\"/>\r\n      </g>\r\n     </g>\r\n    </g>\r\n    <g id=\"ytick_6\">\r\n     <g id=\"line2d_8\">\r\n      <g>\r\n       <use style=\"stroke:#000000;stroke-width:0.8;\" x=\"279.292625\" xlink:href=\"#m43c8b8da95\" y=\"97.975219\"/>\r\n      </g>\r\n     </g>\r\n     <g id=\"text_14\">\r\n      <!-- 0.6 -->\r\n      <defs>\r\n       <path d=\"M 33.015625 40.375 \r\nQ 26.375 40.375 22.484375 35.828125 \r\nQ 18.609375 31.296875 18.609375 23.390625 \r\nQ 18.609375 15.53125 22.484375 10.953125 \r\nQ 26.375 6.390625 33.015625 6.390625 \r\nQ 39.65625 6.390625 43.53125 10.953125 \r\nQ 47.40625 15.53125 47.40625 23.390625 \r\nQ 47.40625 31.296875 43.53125 35.828125 \r\nQ 39.65625 40.375 33.015625 40.375 \r\nz\r\nM 52.59375 71.296875 \r\nL 52.59375 62.3125 \r\nQ 48.875 64.0625 45.09375 64.984375 \r\nQ 41.3125 65.921875 37.59375 65.921875 \r\nQ 27.828125 65.921875 22.671875 59.328125 \r\nQ 17.53125 52.734375 16.796875 39.40625 \r\nQ 19.671875 43.65625 24.015625 45.921875 \r\nQ 28.375 48.1875 33.59375 48.1875 \r\nQ 44.578125 48.1875 50.953125 41.515625 \r\nQ 57.328125 34.859375 57.328125 23.390625 \r\nQ 57.328125 12.15625 50.6875 5.359375 \r\nQ 44.046875 -1.421875 33.015625 -1.421875 \r\nQ 20.359375 -1.421875 13.671875 8.265625 \r\nQ 6.984375 17.96875 6.984375 36.375 \r\nQ 6.984375 53.65625 15.1875 63.9375 \r\nQ 23.390625 74.21875 37.203125 74.21875 \r\nQ 40.921875 74.21875 44.703125 73.484375 \r\nQ 48.484375 72.75 52.59375 71.296875 \r\nz\r\n\" id=\"DejaVuSans-54\"/>\r\n      </defs>\r\n      <g transform=\"translate(286.292625 101.774437)scale(0.1 -0.1)\">\r\n       <use xlink:href=\"#DejaVuSans-48\"/>\r\n       <use x=\"63.623047\" xlink:href=\"#DejaVuSans-46\"/>\r\n       <use x=\"95.410156\" xlink:href=\"#DejaVuSans-54\"/>\r\n      </g>\r\n     </g>\r\n    </g>\r\n    <g id=\"ytick_7\">\r\n     <g id=\"line2d_9\">\r\n      <g>\r\n       <use style=\"stroke:#000000;stroke-width:0.8;\" x=\"279.292625\" xlink:href=\"#m43c8b8da95\" y=\"54.487219\"/>\r\n      </g>\r\n     </g>\r\n     <g id=\"text_15\">\r\n      <!-- 0.8 -->\r\n      <defs>\r\n       <path d=\"M 31.78125 34.625 \r\nQ 24.75 34.625 20.71875 30.859375 \r\nQ 16.703125 27.09375 16.703125 20.515625 \r\nQ 16.703125 13.921875 20.71875 10.15625 \r\nQ 24.75 6.390625 31.78125 6.390625 \r\nQ 38.8125 6.390625 42.859375 10.171875 \r\nQ 46.921875 13.96875 46.921875 20.515625 \r\nQ 46.921875 27.09375 42.890625 30.859375 \r\nQ 38.875 34.625 31.78125 34.625 \r\nz\r\nM 21.921875 38.8125 \r\nQ 15.578125 40.375 12.03125 44.71875 \r\nQ 8.5 49.078125 8.5 55.328125 \r\nQ 8.5 64.0625 14.71875 69.140625 \r\nQ 20.953125 74.21875 31.78125 74.21875 \r\nQ 42.671875 74.21875 48.875 69.140625 \r\nQ 55.078125 64.0625 55.078125 55.328125 \r\nQ 55.078125 49.078125 51.53125 44.71875 \r\nQ 48 40.375 41.703125 38.8125 \r\nQ 48.828125 37.15625 52.796875 32.3125 \r\nQ 56.78125 27.484375 56.78125 20.515625 \r\nQ 56.78125 9.90625 50.3125 4.234375 \r\nQ 43.84375 -1.421875 31.78125 -1.421875 \r\nQ 19.734375 -1.421875 13.25 4.234375 \r\nQ 6.78125 9.90625 6.78125 20.515625 \r\nQ 6.78125 27.484375 10.78125 32.3125 \r\nQ 14.796875 37.15625 21.921875 38.8125 \r\nz\r\nM 18.3125 54.390625 \r\nQ 18.3125 48.734375 21.84375 45.5625 \r\nQ 25.390625 42.390625 31.78125 42.390625 \r\nQ 38.140625 42.390625 41.71875 45.5625 \r\nQ 45.3125 48.734375 45.3125 54.390625 \r\nQ 45.3125 60.0625 41.71875 63.234375 \r\nQ 38.140625 66.40625 31.78125 66.40625 \r\nQ 25.390625 66.40625 21.84375 63.234375 \r\nQ 18.3125 60.0625 18.3125 54.390625 \r\nz\r\n\" id=\"DejaVuSans-56\"/>\r\n      </defs>\r\n      <g transform=\"translate(286.292625 58.286437)scale(0.1 -0.1)\">\r\n       <use xlink:href=\"#DejaVuSans-48\"/>\r\n       <use x=\"63.623047\" xlink:href=\"#DejaVuSans-46\"/>\r\n       <use x=\"95.410156\" xlink:href=\"#DejaVuSans-56\"/>\r\n      </g>\r\n     </g>\r\n    </g>\r\n    <g id=\"ytick_8\">\r\n     <g id=\"line2d_10\">\r\n      <g>\r\n       <use style=\"stroke:#000000;stroke-width:0.8;\" x=\"279.292625\" xlink:href=\"#m43c8b8da95\" y=\"10.999219\"/>\r\n      </g>\r\n     </g>\r\n     <g id=\"text_16\">\r\n      <!-- 1.0 -->\r\n      <g transform=\"translate(286.292625 14.798437)scale(0.1 -0.1)\">\r\n       <use xlink:href=\"#DejaVuSans-49\"/>\r\n       <use x=\"63.623047\" xlink:href=\"#DejaVuSans-46\"/>\r\n       <use x=\"95.410156\" xlink:href=\"#DejaVuSans-48\"/>\r\n      </g>\r\n     </g>\r\n    </g>\r\n   </g>\r\n   <g id=\"patch_8\">\r\n    <path d=\"M 268.420625 228.439219 \r\nL 268.420625 227.589844 \r\nL 268.420625 11.848594 \r\nL 268.420625 10.999219 \r\nL 279.292625 10.999219 \r\nL 279.292625 11.848594 \r\nL 279.292625 227.589844 \r\nL 279.292625 228.439219 \r\nz\r\n\" style=\"fill:none;stroke:#000000;stroke-linejoin:miter;stroke-width:0.8;\"/>\r\n   </g>\r\n  </g>\r\n </g>\r\n <defs>\r\n  <clipPath id=\"p51006f8f05\">\r\n   <rect height=\"217.44\" width=\"217.44\" x=\"34.240625\" y=\"10.999219\"/>\r\n  </clipPath>\r\n  <clipPath id=\"p152cffa9dd\">\r\n   <rect height=\"217.44\" width=\"10.872\" x=\"268.420625\" y=\"10.999219\"/>\r\n  </clipPath>\r\n </defs>\r\n</svg>\r\n",
      "image/png": "[encoded data removed]"
     },
     "metadata": {
      "needs_background": "light"
     }
    }
   ],
   "source": [
    "plot_confusion_matrix(model_final, X_test, y_test, normalize='true')\n",
    "plt.show()"
   ]
  },
  {
   "cell_type": "code",
   "execution_count": 20,
   "metadata": {},
   "outputs": [
    {
     "output_type": "stream",
     "name": "stdout",
     "text": [
      "              precision    recall  f1-score   support\n\n           0       1.00      0.91      0.95        85\n           1       0.87      1.00      0.93        55\n\n    accuracy                           0.94       140\n   macro avg       0.94      0.95      0.94       140\nweighted avg       0.95      0.94      0.94       140\n\n"
     ]
    }
   ],
   "source": [
    "print(classification_report(y_test, model_final.predict(X_test)))"
   ]
  },
  {
   "source": [
    "# Model works good for 1 class, the test recall is 1, accuracy is 94%"
   ],
   "cell_type": "markdown",
   "metadata": {}
  },
  {
   "source": [
    "## Saving the model via pickle"
   ],
   "cell_type": "markdown",
   "metadata": {}
  },
  {
   "cell_type": "code",
   "execution_count": 21,
   "metadata": {},
   "outputs": [],
   "source": [
    "## import pickle\n",
    "## filename = r'../Trained models/SVM_trained.sav'\n",
    "## pickle.dump(model_final, open(filename, 'wb'))"
   ]
  }
 ]
}