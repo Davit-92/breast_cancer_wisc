{
 "metadata": {
  "language_info": {
   "codemirror_mode": {
    "name": "ipython",
    "version": 3
   },
   "file_extension": ".py",
   "mimetype": "text/x-python",
   "name": "python",
   "nbconvert_exporter": "python",
   "pygments_lexer": "ipython3",
   "version": "3.8.10"
  },
  "orig_nbformat": 2,
  "kernelspec": {
   "name": "python3810jvsc74a57bd0c8a9d36e8b5174058a1a505fdd53573d7575bbce5f04664518cf239dcd87db3b",
   "display_name": "Python 3.8.10 64-bit ('PythonSoftwareFoundation.Python.3.8_qbz5n2kfra8p0')"
  },
  "metadata": {
   "interpreter": {
    "hash": "c8a9d36e8b5174058a1a505fdd53573d7575bbce5f04664518cf239dcd87db3b"
   }
  }
 },
 "nbformat": 4,
 "nbformat_minor": 2,
 "cells": [
  {
   "cell_type": "code",
   "execution_count": null,
   "metadata": {},
   "outputs": [],
   "source": [
    "import pickle"
   ]
  },
  {
   "cell_type": "code",
   "execution_count": null,
   "metadata": {},
   "outputs": [],
   "source": [
    "loaded_model = pickle.load(open(r\"Trained models/SVM_trained.sav\", 'rb'))"
   ]
  },
  {
   "cell_type": "code",
   "execution_count": null,
   "metadata": {},
   "outputs": [],
   "source": [
    "## import pandas as pd\n",
    "## X = pd.read_csv(r\"Data/03_Prepared_data.csv\")\n",
    "## X.drop(\"Class\", inplace=True, axis=1)\n",
    "## X.iloc[:10, :]\n",
    "## loaded_model.predict(X.iloc[:10, :])"
   ]
  }
 ]
}